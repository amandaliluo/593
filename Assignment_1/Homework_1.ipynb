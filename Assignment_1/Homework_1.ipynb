{
 "cells": [
  {
   "cell_type": "markdown",
   "metadata": {},
   "source": [
    "<div class=\"alert alert-block alert-info\">  \n",
    "\n",
    "## <font color=darkblue>MSDS 593 EDA and Visualization: Homework #1</font>\n",
    "###### By: Amanda Li Luo\n",
    "###### Student ID #: 20645578\n"
   ]
  },
  {
   "cell_type": "code",
   "execution_count": 1,
   "metadata": {},
   "outputs": [],
   "source": [
    "import numpy as np\n",
    "import pandas as pd\n",
    "import matplotlib.pyplot as plt\n",
    "\n",
    "%config InlineBackend.figure_format = 'retina' "
   ]
  },
  {
   "cell_type": "markdown",
   "metadata": {},
   "source": [
    "<div class =\"alert alert-block alert-success\">\n",
    "\n",
    "### Question 1: Create a 1D ndarray of numbers from 100 to 112 (step=1) inclusively and use python to\n"
   ]
  },
  {
   "cell_type": "code",
   "execution_count": 2,
   "metadata": {},
   "outputs": [
    {
     "data": {
      "text/plain": [
       "array([100, 101, 102, 103, 104, 105, 106, 107, 108, 109, 110, 111, 112])"
      ]
     },
     "execution_count": 2,
     "metadata": {},
     "output_type": "execute_result"
    }
   ],
   "source": [
    "x = np.arange(100, 113, 1)\n",
    "x"
   ]
  },
  {
   "cell_type": "markdown",
   "metadata": {},
   "source": [
    "<div class =\"alert alert-block alert-warning\">\n",
    "    \n",
    "> **(a) Print the shape of the array**"
   ]
  },
  {
   "cell_type": "code",
   "execution_count": 3,
   "metadata": {},
   "outputs": [
    {
     "name": "stdout",
     "output_type": "stream",
     "text": [
      "Shape: (13,)\n"
     ]
    }
   ],
   "source": [
    "print('Shape:', x.shape)"
   ]
  },
  {
   "cell_type": "markdown",
   "metadata": {},
   "source": [
    "<div class =\"alert alert-block alert-warning\">\n",
    "    \n",
    "> **(b) print the data type of the array**"
   ]
  },
  {
   "cell_type": "code",
   "execution_count": 4,
   "metadata": {},
   "outputs": [
    {
     "name": "stdout",
     "output_type": "stream",
     "text": [
      "Data type: <class 'numpy.ndarray'>\n"
     ]
    }
   ],
   "source": [
    "print('Data type:', type(x))"
   ]
  },
  {
   "cell_type": "markdown",
   "metadata": {},
   "source": [
    "<div class =\"alert alert-block alert-warning\">\n",
    "\n",
    "> **(c) Create a new array that is a slice of the original array with index [5 : 10] inclusively,and assign all values of the the new array to be 0.**"
   ]
  },
  {
   "cell_type": "code",
   "execution_count": 5,
   "metadata": {},
   "outputs": [
    {
     "name": "stdout",
     "output_type": "stream",
     "text": [
      "[105 106 107 108 109 110]\n"
     ]
    },
    {
     "data": {
      "text/plain": [
       "array([0, 0, 0, 0, 0, 0])"
      ]
     },
     "execution_count": 5,
     "metadata": {},
     "output_type": "execute_result"
    }
   ],
   "source": [
    "new_x = x[5:11]\n",
    "print(new_x)\n",
    "new_x[:] = 0\n",
    "new_x"
   ]
  },
  {
   "cell_type": "markdown",
   "metadata": {},
   "source": [
    "<div class =\"alert alert-block alert-warning\">\n",
    "    \n",
    "> **(d) Create a boolean vector from the array to indicate if any element is greater than 105,and less than or equal to 110.**"
   ]
  },
  {
   "cell_type": "code",
   "execution_count": 6,
   "metadata": {},
   "outputs": [
    {
     "data": {
      "text/plain": [
       "array([False, False, False, False, False, False, False, False, False,\n",
       "       False, False, False, False])"
      ]
     },
     "execution_count": 6,
     "metadata": {},
     "output_type": "execute_result"
    }
   ],
   "source": [
    "boolean_x = (x >105) & (x <= 110)\n",
    "\n",
    "boolean_x"
   ]
  },
  {
   "cell_type": "markdown",
   "metadata": {},
   "source": [
    "<div class =\"alert alert-block alert-warning\">\n",
    "\n",
    "> **(e) Replace all the elements in the array that are greater than 105 and less than or equal to 110 with 0.**"
   ]
  },
  {
   "cell_type": "code",
   "execution_count": 7,
   "metadata": {},
   "outputs": [],
   "source": [
    "x[boolean_x] = 0\n"
   ]
  },
  {
   "cell_type": "code",
   "execution_count": 8,
   "metadata": {},
   "outputs": [
    {
     "data": {
      "text/plain": [
       "array([100, 101, 102, 103, 104,   0,   0,   0,   0,   0,   0, 111, 112])"
      ]
     },
     "execution_count": 8,
     "metadata": {},
     "output_type": "execute_result"
    }
   ],
   "source": [
    "x"
   ]
  },
  {
   "cell_type": "markdown",
   "metadata": {},
   "source": [
    "<div class=\"alert alert-block alert-success\">  \n",
    "\n",
    "\n",
    "### Question 2: Make a Series object with year values: 1991, 1992, 1993, 1994, 1995, 1996, 1997, 1998, 1999, 2000."
   ]
  },
  {
   "cell_type": "code",
   "execution_count": 9,
   "metadata": {},
   "outputs": [
    {
     "data": {
      "text/plain": [
       "0    1991\n",
       "1    1992\n",
       "2    1993\n",
       "3    1994\n",
       "4    1995\n",
       "5    1996\n",
       "6    1997\n",
       "7    1998\n",
       "8    1999\n",
       "9    2000\n",
       "dtype: int64"
      ]
     },
     "execution_count": 9,
     "metadata": {},
     "output_type": "execute_result"
    }
   ],
   "source": [
    "year = pd.Series(range(1991,2001,1))\n",
    "year"
   ]
  },
  {
   "cell_type": "markdown",
   "metadata": {},
   "source": [
    "<div class =\"alert alert-block alert-warning\">\n",
    "\n",
    "> **(a) Print out how many total values there are using code not manual counting**"
   ]
  },
  {
   "cell_type": "code",
   "execution_count": 10,
   "metadata": {},
   "outputs": [
    {
     "name": "stdout",
     "output_type": "stream",
     "text": [
      "Total number of years: 10\n"
     ]
    }
   ],
   "source": [
    "print('Total number of years:', year.count())"
   ]
  },
  {
   "cell_type": "markdown",
   "metadata": {},
   "source": [
    "<div class =\"alert alert-block alert-warning\">\n",
    "\n",
    "> **(b) Make another series with rainfall values 12.09, 12.35, 12.51, 10.25, 10.18, 10.59, 10.26, 10.48, 8.67, 10.23**"
   ]
  },
  {
   "cell_type": "code",
   "execution_count": 11,
   "metadata": {},
   "outputs": [
    {
     "data": {
      "text/plain": [
       "0    12.09\n",
       "1    12.35\n",
       "2    12.51\n",
       "3    10.25\n",
       "4    10.18\n",
       "5    10.59\n",
       "6    10.26\n",
       "7    10.48\n",
       "8     8.67\n",
       "9    10.23\n",
       "dtype: float64"
      ]
     },
     "execution_count": 11,
     "metadata": {},
     "output_type": "execute_result"
    }
   ],
   "source": [
    "rainfall = pd.Series([12.09, 12.35, 12.51, 10.25, 10.18, 10.59, 10.26, 10.48, 8.67, 10.23])\n",
    "rainfall"
   ]
  },
  {
   "cell_type": "markdown",
   "metadata": {},
   "source": [
    "<div class =\"alert alert-block alert-warning\">\n",
    "\n",
    "> **(c) Imagine the order of rainfall values follow the order the years. Print out the years for which rainfall was less than 11.**"
   ]
  },
  {
   "cell_type": "code",
   "execution_count": 12,
   "metadata": {},
   "outputs": [
    {
     "name": "stdout",
     "output_type": "stream",
     "text": [
      "[1994 1995 1996 1997 1998 1999 2000]\n"
     ]
    }
   ],
   "source": [
    "# a= rainfall[rainfall < 11].index\n",
    "# print(a)\n",
    "# year[a]\n",
    "print(year[rainfall[rainfall < 11].index].values)"
   ]
  },
  {
   "cell_type": "markdown",
   "metadata": {},
   "source": [
    "<div class =\"alert alert-block alert-warning\">\n",
    "\n",
    "> **(d) Normalize that rainfall series by x−mean std and print it out.**"
   ]
  },
  {
   "cell_type": "code",
   "execution_count": 13,
   "metadata": {},
   "outputs": [
    {
     "data": {
      "text/plain": [
       "count    10.000000\n",
       "mean     10.761000\n",
       "std       1.200106\n",
       "min       8.670000\n",
       "25%      10.235000\n",
       "50%      10.370000\n",
       "75%      11.715000\n",
       "max      12.510000\n",
       "dtype: float64"
      ]
     },
     "execution_count": 13,
     "metadata": {},
     "output_type": "execute_result"
    }
   ],
   "source": [
    "rainfall.describe()"
   ]
  },
  {
   "cell_type": "code",
   "execution_count": 14,
   "metadata": {},
   "outputs": [
    {
     "data": {
      "text/plain": [
       "(10.761000000000001, 1.2001060138356296)"
      ]
     },
     "execution_count": 14,
     "metadata": {},
     "output_type": "execute_result"
    }
   ],
   "source": [
    "df_mean = rainfall.describe()['mean']\n",
    "df_std = rainfall.describe()['std']\n",
    "\n",
    "df_mean, df_std"
   ]
  },
  {
   "cell_type": "code",
   "execution_count": 15,
   "metadata": {},
   "outputs": [
    {
     "data": {
      "text/plain": [
       "RangeIndex(start=0, stop=10, step=1)"
      ]
     },
     "execution_count": 15,
     "metadata": {},
     "output_type": "execute_result"
    }
   ],
   "source": [
    "rainfall.index"
   ]
  },
  {
   "cell_type": "code",
   "execution_count": 16,
   "metadata": {},
   "outputs": [
    {
     "name": "stdout",
     "output_type": "stream",
     "text": [
      "0    1.107402\n",
      "1    1.324050\n",
      "2    1.457371\n",
      "3   -0.425796\n",
      "4   -0.484124\n",
      "5   -0.142487\n",
      "6   -0.417463\n",
      "7   -0.234146\n",
      "8   -1.742346\n",
      "9   -0.442461\n",
      "dtype: float64\n"
     ]
    }
   ],
   "source": [
    "for num in range(0,10):\n",
    "    rainfall.iloc[num] = (rainfall.iloc[num] - df_mean)/ df_std\n",
    "\n",
    "print(rainfall)"
   ]
  },
  {
   "cell_type": "markdown",
   "metadata": {},
   "source": [
    "<div class =\"alert alert-block alert-warning\">\n",
    "\n",
    "> **(e) Set the year starting 1996 and forward as np.nan. Count the number of missing values.**"
   ]
  },
  {
   "cell_type": "code",
   "execution_count": 17,
   "metadata": {},
   "outputs": [
    {
     "name": "stdout",
     "output_type": "stream",
     "text": [
      "Number of missing values: 5\n"
     ]
    }
   ],
   "source": [
    "year[year >= 1996] = np.nan\n",
    "missing_num = year.isna().value_counts()[False]\n",
    "print('Number of missing values:', missing_num)"
   ]
  },
  {
   "cell_type": "markdown",
   "metadata": {},
   "source": [
    "<div class =\"alert alert-block alert-warning\">\n",
    "\n",
    "> **(f) Fill all the NaNs with 0.**"
   ]
  },
  {
   "cell_type": "code",
   "execution_count": 18,
   "metadata": {},
   "outputs": [
    {
     "data": {
      "text/plain": [
       "0    1991.0\n",
       "1    1992.0\n",
       "2    1993.0\n",
       "3    1994.0\n",
       "4    1995.0\n",
       "5       0.0\n",
       "6       0.0\n",
       "7       0.0\n",
       "8       0.0\n",
       "9       0.0\n",
       "dtype: float64"
      ]
     },
     "execution_count": 18,
     "metadata": {},
     "output_type": "execute_result"
    }
   ],
   "source": [
    "year[year.isna()] = 0\n",
    "year"
   ]
  },
  {
   "cell_type": "markdown",
   "metadata": {},
   "source": [
    "<div class=\"alert alert-block alert-success\">  \n",
    "    \n",
    "### Question 3: For the cars.csv data set:\n"
   ]
  },
  {
   "cell_type": "code",
   "execution_count": 19,
   "metadata": {},
   "outputs": [
    {
     "data": {
      "text/html": [
       "<div>\n",
       "<style scoped>\n",
       "    .dataframe tbody tr th:only-of-type {\n",
       "        vertical-align: middle;\n",
       "    }\n",
       "\n",
       "    .dataframe tbody tr th {\n",
       "        vertical-align: top;\n",
       "    }\n",
       "\n",
       "    .dataframe thead th {\n",
       "        text-align: right;\n",
       "    }\n",
       "</style>\n",
       "<table border=\"1\" class=\"dataframe\">\n",
       "  <thead>\n",
       "    <tr style=\"text-align: right;\">\n",
       "      <th></th>\n",
       "      <th>MPG</th>\n",
       "      <th>CYL</th>\n",
       "      <th>ENG</th>\n",
       "      <th>WGT</th>\n",
       "    </tr>\n",
       "  </thead>\n",
       "  <tbody>\n",
       "    <tr>\n",
       "      <th>0</th>\n",
       "      <td>18.0</td>\n",
       "      <td>8</td>\n",
       "      <td>307.0</td>\n",
       "      <td>3504</td>\n",
       "    </tr>\n",
       "    <tr>\n",
       "      <th>1</th>\n",
       "      <td>15.0</td>\n",
       "      <td>8</td>\n",
       "      <td>350.0</td>\n",
       "      <td>3693</td>\n",
       "    </tr>\n",
       "    <tr>\n",
       "      <th>2</th>\n",
       "      <td>18.0</td>\n",
       "      <td>8</td>\n",
       "      <td>318.0</td>\n",
       "      <td>3436</td>\n",
       "    </tr>\n",
       "    <tr>\n",
       "      <th>3</th>\n",
       "      <td>16.0</td>\n",
       "      <td>8</td>\n",
       "      <td>304.0</td>\n",
       "      <td>3433</td>\n",
       "    </tr>\n",
       "    <tr>\n",
       "      <th>4</th>\n",
       "      <td>17.0</td>\n",
       "      <td>8</td>\n",
       "      <td>302.0</td>\n",
       "      <td>3449</td>\n",
       "    </tr>\n",
       "    <tr>\n",
       "      <th>5</th>\n",
       "      <td>15.0</td>\n",
       "      <td>8</td>\n",
       "      <td>429.0</td>\n",
       "      <td>4341</td>\n",
       "    </tr>\n",
       "    <tr>\n",
       "      <th>6</th>\n",
       "      <td>14.0</td>\n",
       "      <td>8</td>\n",
       "      <td>454.0</td>\n",
       "      <td>4354</td>\n",
       "    </tr>\n",
       "    <tr>\n",
       "      <th>7</th>\n",
       "      <td>14.0</td>\n",
       "      <td>8</td>\n",
       "      <td>440.0</td>\n",
       "      <td>4312</td>\n",
       "    </tr>\n",
       "    <tr>\n",
       "      <th>8</th>\n",
       "      <td>14.0</td>\n",
       "      <td>8</td>\n",
       "      <td>455.0</td>\n",
       "      <td>4425</td>\n",
       "    </tr>\n",
       "    <tr>\n",
       "      <th>9</th>\n",
       "      <td>15.0</td>\n",
       "      <td>8</td>\n",
       "      <td>390.0</td>\n",
       "      <td>3850</td>\n",
       "    </tr>\n",
       "  </tbody>\n",
       "</table>\n",
       "</div>"
      ],
      "text/plain": [
       "    MPG  CYL    ENG   WGT\n",
       "0  18.0    8  307.0  3504\n",
       "1  15.0    8  350.0  3693\n",
       "2  18.0    8  318.0  3436\n",
       "3  16.0    8  304.0  3433\n",
       "4  17.0    8  302.0  3449\n",
       "5  15.0    8  429.0  4341\n",
       "6  14.0    8  454.0  4354\n",
       "7  14.0    8  440.0  4312\n",
       "8  14.0    8  455.0  4425\n",
       "9  15.0    8  390.0  3850"
      ]
     },
     "execution_count": 19,
     "metadata": {},
     "output_type": "execute_result"
    }
   ],
   "source": [
    "cars = pd.read_csv('cars.csv')\n",
    "cars.head(10)"
   ]
  },
  {
   "cell_type": "markdown",
   "metadata": {},
   "source": [
    "<div class =\"alert alert-block alert-warning\">\n",
    "\n",
    "> **(a) Use numpy’s function np.corrcoe f(x, y) to compute the correlation between a car’s weight and the miles per gallon; that function returns a matrix of x with x, x with y, etc... so the diagonal will always be correlation 1.0. What is the correlation between a car’s weight and the MPG? What does the correlation tell us about their relationship?**\n",
    "\n",
    ">> The correlation between a car's weight and the miles per gallon is *-0.83224421*. This correlation is a strong negative correlation indicating that as a car's weight increases, the number of miles per gallon decreases(and vice versa). "
   ]
  },
  {
   "cell_type": "code",
   "execution_count": 20,
   "metadata": {},
   "outputs": [
    {
     "data": {
      "text/plain": [
       "array([[ 1.        , -0.83224421],\n",
       "       [-0.83224421,  1.        ]])"
      ]
     },
     "execution_count": 20,
     "metadata": {},
     "output_type": "execute_result"
    }
   ],
   "source": [
    "np.corrcoef(cars['MPG'], cars['WGT'])"
   ]
  },
  {
   "cell_type": "markdown",
   "metadata": {},
   "source": [
    "<div class =\"alert alert-block alert-warning\">\n",
    "\n",
    "> **(b) Display the records for all 8 cylinder cars**"
   ]
  },
  {
   "cell_type": "code",
   "execution_count": 21,
   "metadata": {},
   "outputs": [
    {
     "data": {
      "text/html": [
       "<div>\n",
       "<style scoped>\n",
       "    .dataframe tbody tr th:only-of-type {\n",
       "        vertical-align: middle;\n",
       "    }\n",
       "\n",
       "    .dataframe tbody tr th {\n",
       "        vertical-align: top;\n",
       "    }\n",
       "\n",
       "    .dataframe thead th {\n",
       "        text-align: right;\n",
       "    }\n",
       "</style>\n",
       "<table border=\"1\" class=\"dataframe\">\n",
       "  <thead>\n",
       "    <tr style=\"text-align: right;\">\n",
       "      <th></th>\n",
       "      <th>MPG</th>\n",
       "      <th>CYL</th>\n",
       "      <th>ENG</th>\n",
       "      <th>WGT</th>\n",
       "    </tr>\n",
       "  </thead>\n",
       "  <tbody>\n",
       "    <tr>\n",
       "      <th>0</th>\n",
       "      <td>18.000000</td>\n",
       "      <td>8</td>\n",
       "      <td>307.0</td>\n",
       "      <td>3504</td>\n",
       "    </tr>\n",
       "    <tr>\n",
       "      <th>1</th>\n",
       "      <td>15.000000</td>\n",
       "      <td>8</td>\n",
       "      <td>350.0</td>\n",
       "      <td>3693</td>\n",
       "    </tr>\n",
       "    <tr>\n",
       "      <th>2</th>\n",
       "      <td>18.000000</td>\n",
       "      <td>8</td>\n",
       "      <td>318.0</td>\n",
       "      <td>3436</td>\n",
       "    </tr>\n",
       "    <tr>\n",
       "      <th>3</th>\n",
       "      <td>16.000000</td>\n",
       "      <td>8</td>\n",
       "      <td>304.0</td>\n",
       "      <td>3433</td>\n",
       "    </tr>\n",
       "    <tr>\n",
       "      <th>4</th>\n",
       "      <td>17.000000</td>\n",
       "      <td>8</td>\n",
       "      <td>302.0</td>\n",
       "      <td>3449</td>\n",
       "    </tr>\n",
       "    <tr>\n",
       "      <th>...</th>\n",
       "      <td>...</td>\n",
       "      <td>...</td>\n",
       "      <td>...</td>\n",
       "      <td>...</td>\n",
       "    </tr>\n",
       "    <tr>\n",
       "      <th>289</th>\n",
       "      <td>19.200001</td>\n",
       "      <td>8</td>\n",
       "      <td>267.0</td>\n",
       "      <td>3605</td>\n",
       "    </tr>\n",
       "    <tr>\n",
       "      <th>290</th>\n",
       "      <td>18.500000</td>\n",
       "      <td>8</td>\n",
       "      <td>360.0</td>\n",
       "      <td>3940</td>\n",
       "    </tr>\n",
       "    <tr>\n",
       "      <th>296</th>\n",
       "      <td>23.000000</td>\n",
       "      <td>8</td>\n",
       "      <td>350.0</td>\n",
       "      <td>3900</td>\n",
       "    </tr>\n",
       "    <tr>\n",
       "      <th>298</th>\n",
       "      <td>23.900000</td>\n",
       "      <td>8</td>\n",
       "      <td>260.0</td>\n",
       "      <td>3420</td>\n",
       "    </tr>\n",
       "    <tr>\n",
       "      <th>359</th>\n",
       "      <td>26.600000</td>\n",
       "      <td>8</td>\n",
       "      <td>350.0</td>\n",
       "      <td>3725</td>\n",
       "    </tr>\n",
       "  </tbody>\n",
       "</table>\n",
       "<p>103 rows × 4 columns</p>\n",
       "</div>"
      ],
      "text/plain": [
       "           MPG  CYL    ENG   WGT\n",
       "0    18.000000    8  307.0  3504\n",
       "1    15.000000    8  350.0  3693\n",
       "2    18.000000    8  318.0  3436\n",
       "3    16.000000    8  304.0  3433\n",
       "4    17.000000    8  302.0  3449\n",
       "..         ...  ...    ...   ...\n",
       "289  19.200001    8  267.0  3605\n",
       "290  18.500000    8  360.0  3940\n",
       "296  23.000000    8  350.0  3900\n",
       "298  23.900000    8  260.0  3420\n",
       "359  26.600000    8  350.0  3725\n",
       "\n",
       "[103 rows x 4 columns]"
      ]
     },
     "execution_count": 21,
     "metadata": {},
     "output_type": "execute_result"
    }
   ],
   "source": [
    "cars[cars['CYL'] == 8]"
   ]
  },
  {
   "cell_type": "markdown",
   "metadata": {},
   "source": [
    "<div class =\"alert alert-block alert-warning\">\n",
    "\n",
    "> **(c) Create a new column called ‘ENG2WGT‘ that has the engine to weight ratio**"
   ]
  },
  {
   "cell_type": "code",
   "execution_count": 22,
   "metadata": {},
   "outputs": [],
   "source": [
    "cars['ENG2WGT'] = cars['ENG']/cars['WGT']"
   ]
  },
  {
   "cell_type": "code",
   "execution_count": 23,
   "metadata": {},
   "outputs": [
    {
     "data": {
      "text/html": [
       "<div>\n",
       "<style scoped>\n",
       "    .dataframe tbody tr th:only-of-type {\n",
       "        vertical-align: middle;\n",
       "    }\n",
       "\n",
       "    .dataframe tbody tr th {\n",
       "        vertical-align: top;\n",
       "    }\n",
       "\n",
       "    .dataframe thead th {\n",
       "        text-align: right;\n",
       "    }\n",
       "</style>\n",
       "<table border=\"1\" class=\"dataframe\">\n",
       "  <thead>\n",
       "    <tr style=\"text-align: right;\">\n",
       "      <th></th>\n",
       "      <th>MPG</th>\n",
       "      <th>CYL</th>\n",
       "      <th>ENG</th>\n",
       "      <th>WGT</th>\n",
       "      <th>ENG2WGT</th>\n",
       "    </tr>\n",
       "  </thead>\n",
       "  <tbody>\n",
       "    <tr>\n",
       "      <th>0</th>\n",
       "      <td>18.0</td>\n",
       "      <td>8</td>\n",
       "      <td>307.0</td>\n",
       "      <td>3504</td>\n",
       "      <td>0.087614</td>\n",
       "    </tr>\n",
       "    <tr>\n",
       "      <th>1</th>\n",
       "      <td>15.0</td>\n",
       "      <td>8</td>\n",
       "      <td>350.0</td>\n",
       "      <td>3693</td>\n",
       "      <td>0.094774</td>\n",
       "    </tr>\n",
       "    <tr>\n",
       "      <th>2</th>\n",
       "      <td>18.0</td>\n",
       "      <td>8</td>\n",
       "      <td>318.0</td>\n",
       "      <td>3436</td>\n",
       "      <td>0.092549</td>\n",
       "    </tr>\n",
       "    <tr>\n",
       "      <th>3</th>\n",
       "      <td>16.0</td>\n",
       "      <td>8</td>\n",
       "      <td>304.0</td>\n",
       "      <td>3433</td>\n",
       "      <td>0.088552</td>\n",
       "    </tr>\n",
       "    <tr>\n",
       "      <th>4</th>\n",
       "      <td>17.0</td>\n",
       "      <td>8</td>\n",
       "      <td>302.0</td>\n",
       "      <td>3449</td>\n",
       "      <td>0.087562</td>\n",
       "    </tr>\n",
       "    <tr>\n",
       "      <th>...</th>\n",
       "      <td>...</td>\n",
       "      <td>...</td>\n",
       "      <td>...</td>\n",
       "      <td>...</td>\n",
       "      <td>...</td>\n",
       "    </tr>\n",
       "    <tr>\n",
       "      <th>387</th>\n",
       "      <td>27.0</td>\n",
       "      <td>4</td>\n",
       "      <td>140.0</td>\n",
       "      <td>2790</td>\n",
       "      <td>0.050179</td>\n",
       "    </tr>\n",
       "    <tr>\n",
       "      <th>388</th>\n",
       "      <td>44.0</td>\n",
       "      <td>4</td>\n",
       "      <td>97.0</td>\n",
       "      <td>2130</td>\n",
       "      <td>0.045540</td>\n",
       "    </tr>\n",
       "    <tr>\n",
       "      <th>389</th>\n",
       "      <td>32.0</td>\n",
       "      <td>4</td>\n",
       "      <td>135.0</td>\n",
       "      <td>2295</td>\n",
       "      <td>0.058824</td>\n",
       "    </tr>\n",
       "    <tr>\n",
       "      <th>390</th>\n",
       "      <td>28.0</td>\n",
       "      <td>4</td>\n",
       "      <td>120.0</td>\n",
       "      <td>2625</td>\n",
       "      <td>0.045714</td>\n",
       "    </tr>\n",
       "    <tr>\n",
       "      <th>391</th>\n",
       "      <td>31.0</td>\n",
       "      <td>4</td>\n",
       "      <td>119.0</td>\n",
       "      <td>2720</td>\n",
       "      <td>0.043750</td>\n",
       "    </tr>\n",
       "  </tbody>\n",
       "</table>\n",
       "<p>392 rows × 5 columns</p>\n",
       "</div>"
      ],
      "text/plain": [
       "      MPG  CYL    ENG   WGT   ENG2WGT\n",
       "0    18.0    8  307.0  3504  0.087614\n",
       "1    15.0    8  350.0  3693  0.094774\n",
       "2    18.0    8  318.0  3436  0.092549\n",
       "3    16.0    8  304.0  3433  0.088552\n",
       "4    17.0    8  302.0  3449  0.087562\n",
       "..    ...  ...    ...   ...       ...\n",
       "387  27.0    4  140.0  2790  0.050179\n",
       "388  44.0    4   97.0  2130  0.045540\n",
       "389  32.0    4  135.0  2295  0.058824\n",
       "390  28.0    4  120.0  2625  0.045714\n",
       "391  31.0    4  119.0  2720  0.043750\n",
       "\n",
       "[392 rows x 5 columns]"
      ]
     },
     "execution_count": 23,
     "metadata": {},
     "output_type": "execute_result"
    }
   ],
   "source": [
    "cars"
   ]
  },
  {
   "cell_type": "markdown",
   "metadata": {},
   "source": [
    "<div class=\"alert alert-block alert-success\">  \n",
    "\n",
    "### Question 4: For the kaggle − uber − other − f ederal.csv data set:"
   ]
  },
  {
   "cell_type": "code",
   "execution_count": 24,
   "metadata": {},
   "outputs": [
    {
     "data": {
      "text/html": [
       "<div>\n",
       "<style scoped>\n",
       "    .dataframe tbody tr th:only-of-type {\n",
       "        vertical-align: middle;\n",
       "    }\n",
       "\n",
       "    .dataframe tbody tr th {\n",
       "        vertical-align: top;\n",
       "    }\n",
       "\n",
       "    .dataframe thead th {\n",
       "        text-align: right;\n",
       "    }\n",
       "</style>\n",
       "<table border=\"1\" class=\"dataframe\">\n",
       "  <thead>\n",
       "    <tr style=\"text-align: right;\">\n",
       "      <th></th>\n",
       "      <th>Date</th>\n",
       "      <th>Time</th>\n",
       "      <th>PU_Address</th>\n",
       "      <th>DO_Address</th>\n",
       "      <th>Routing Details</th>\n",
       "      <th>PU_Address.1</th>\n",
       "      <th>Status</th>\n",
       "    </tr>\n",
       "  </thead>\n",
       "  <tbody>\n",
       "    <tr>\n",
       "      <th>0</th>\n",
       "      <td>2014-07-01</td>\n",
       "      <td>2021-07-16 07:15:00</td>\n",
       "      <td>Brooklyn Museum, 200 Eastern Pkwy., BK NY;</td>\n",
       "      <td>1 Brookdale Plaza, BK NY;</td>\n",
       "      <td>PU: Brooklyn Museum, 200 Eastern Pkwy., BK NY;...</td>\n",
       "      <td>Brooklyn Museum, 200 Eastern Pkwy., BK NY; DO:...</td>\n",
       "      <td>Cancelled</td>\n",
       "    </tr>\n",
       "    <tr>\n",
       "      <th>1</th>\n",
       "      <td>2014-07-01</td>\n",
       "      <td>2021-07-16 07:30:00</td>\n",
       "      <td>33 Robert Dr., Short Hills NJ;</td>\n",
       "      <td>John F Kennedy International Airport, vitona A...</td>\n",
       "      <td>PU: 33 Robert Dr., Short Hills NJ; DO: John F ...</td>\n",
       "      <td>33 Robert Dr., Short Hills NJ; DO: John F Kenn...</td>\n",
       "      <td>Arrived</td>\n",
       "    </tr>\n",
       "  </tbody>\n",
       "</table>\n",
       "</div>"
      ],
      "text/plain": [
       "        Date                Time                                  PU_Address  \\\n",
       "0 2014-07-01 2021-07-16 07:15:00  Brooklyn Museum, 200 Eastern Pkwy., BK NY;   \n",
       "1 2014-07-01 2021-07-16 07:30:00              33 Robert Dr., Short Hills NJ;   \n",
       "\n",
       "                                          DO_Address  \\\n",
       "0                         1 Brookdale Plaza, BK NY;    \n",
       "1  John F Kennedy International Airport, vitona A...   \n",
       "\n",
       "                                     Routing Details  \\\n",
       "0  PU: Brooklyn Museum, 200 Eastern Pkwy., BK NY;...   \n",
       "1  PU: 33 Robert Dr., Short Hills NJ; DO: John F ...   \n",
       "\n",
       "                                        PU_Address.1     Status  \n",
       "0  Brooklyn Museum, 200 Eastern Pkwy., BK NY; DO:...  Cancelled  \n",
       "1  33 Robert Dr., Short Hills NJ; DO: John F Kenn...    Arrived  "
      ]
     },
     "execution_count": 24,
     "metadata": {},
     "output_type": "execute_result"
    }
   ],
   "source": [
    "uber = pd.read_csv('kaggle-uber-other-federal.csv',\n",
    "                  parse_dates = ['Date', 'Time'])\n",
    "uber.head(2)"
   ]
  },
  {
   "cell_type": "markdown",
   "metadata": {},
   "source": [
    "<div class =\"alert alert-block alert-warning\">\n",
    "\n",
    "> **(a) Create a new data frame containing ‘Time‘, ‘Status‘, and ‘PU_Address‘ columns**"
   ]
  },
  {
   "cell_type": "code",
   "execution_count": 25,
   "metadata": {},
   "outputs": [
    {
     "data": {
      "text/html": [
       "<div>\n",
       "<style scoped>\n",
       "    .dataframe tbody tr th:only-of-type {\n",
       "        vertical-align: middle;\n",
       "    }\n",
       "\n",
       "    .dataframe tbody tr th {\n",
       "        vertical-align: top;\n",
       "    }\n",
       "\n",
       "    .dataframe thead th {\n",
       "        text-align: right;\n",
       "    }\n",
       "</style>\n",
       "<table border=\"1\" class=\"dataframe\">\n",
       "  <thead>\n",
       "    <tr style=\"text-align: right;\">\n",
       "      <th></th>\n",
       "      <th>Time</th>\n",
       "      <th>Status</th>\n",
       "      <th>PU_Address</th>\n",
       "    </tr>\n",
       "  </thead>\n",
       "  <tbody>\n",
       "    <tr>\n",
       "      <th>0</th>\n",
       "      <td>2021-07-16 07:15:00</td>\n",
       "      <td>Cancelled</td>\n",
       "      <td>Brooklyn Museum, 200 Eastern Pkwy., BK NY;</td>\n",
       "    </tr>\n",
       "    <tr>\n",
       "      <th>1</th>\n",
       "      <td>2021-07-16 07:30:00</td>\n",
       "      <td>Arrived</td>\n",
       "      <td>33 Robert Dr., Short Hills NJ;</td>\n",
       "    </tr>\n",
       "    <tr>\n",
       "      <th>2</th>\n",
       "      <td>2021-07-16 08:00:00</td>\n",
       "      <td>Assigned</td>\n",
       "      <td>60 Glenmore Ave., BK NY;</td>\n",
       "    </tr>\n",
       "    <tr>\n",
       "      <th>3</th>\n",
       "      <td>2021-07-16 09:00:00</td>\n",
       "      <td>Assigned</td>\n",
       "      <td>128 East 31 St., BK NY;</td>\n",
       "    </tr>\n",
       "    <tr>\n",
       "      <th>4</th>\n",
       "      <td>2021-07-16 09:30:00</td>\n",
       "      <td>Assigned</td>\n",
       "      <td>139-39 35 Ave., Flushing NY;</td>\n",
       "    </tr>\n",
       "    <tr>\n",
       "      <th>...</th>\n",
       "      <td>...</td>\n",
       "      <td>...</td>\n",
       "      <td>...</td>\n",
       "    </tr>\n",
       "    <tr>\n",
       "      <th>94</th>\n",
       "      <td>2021-07-16 06:00:00</td>\n",
       "      <td>Assigned</td>\n",
       "      <td>266 prospect park west, brooklyn NY;</td>\n",
       "    </tr>\n",
       "    <tr>\n",
       "      <th>95</th>\n",
       "      <td>2021-07-16 08:30:00</td>\n",
       "      <td>Cancelled</td>\n",
       "      <td>42 St., BK NY;</td>\n",
       "    </tr>\n",
       "    <tr>\n",
       "      <th>96</th>\n",
       "      <td>2021-07-16 12:00:00</td>\n",
       "      <td>Arrived</td>\n",
       "      <td>663 51st Street, BK NY;</td>\n",
       "    </tr>\n",
       "    <tr>\n",
       "      <th>97</th>\n",
       "      <td>2021-07-16 16:45:00</td>\n",
       "      <td>Assigned</td>\n",
       "      <td>255 Fieldston Terrace, Bronx NY;</td>\n",
       "    </tr>\n",
       "    <tr>\n",
       "      <th>98</th>\n",
       "      <td>2021-07-16 13:30:00</td>\n",
       "      <td>Arrived</td>\n",
       "      <td>Columbia University, 630 W 168 St., NY NY; ST:...</td>\n",
       "    </tr>\n",
       "  </tbody>\n",
       "</table>\n",
       "<p>99 rows × 3 columns</p>\n",
       "</div>"
      ],
      "text/plain": [
       "                  Time     Status  \\\n",
       "0  2021-07-16 07:15:00  Cancelled   \n",
       "1  2021-07-16 07:30:00    Arrived   \n",
       "2  2021-07-16 08:00:00   Assigned   \n",
       "3  2021-07-16 09:00:00   Assigned   \n",
       "4  2021-07-16 09:30:00   Assigned   \n",
       "..                 ...        ...   \n",
       "94 2021-07-16 06:00:00   Assigned   \n",
       "95 2021-07-16 08:30:00  Cancelled   \n",
       "96 2021-07-16 12:00:00    Arrived   \n",
       "97 2021-07-16 16:45:00   Assigned   \n",
       "98 2021-07-16 13:30:00    Arrived   \n",
       "\n",
       "                                           PU_Address  \n",
       "0          Brooklyn Museum, 200 Eastern Pkwy., BK NY;  \n",
       "1                      33 Robert Dr., Short Hills NJ;  \n",
       "2                            60 Glenmore Ave., BK NY;  \n",
       "3                             128 East 31 St., BK NY;  \n",
       "4                        139-39 35 Ave., Flushing NY;  \n",
       "..                                                ...  \n",
       "94               266 prospect park west, brooklyn NY;  \n",
       "95                                     42 St., BK NY;  \n",
       "96                            663 51st Street, BK NY;  \n",
       "97                   255 Fieldston Terrace, Bronx NY;  \n",
       "98  Columbia University, 630 W 168 St., NY NY; ST:...  \n",
       "\n",
       "[99 rows x 3 columns]"
      ]
     },
     "execution_count": 25,
     "metadata": {},
     "output_type": "execute_result"
    }
   ],
   "source": [
    "new_uber = uber[['Time', 'Status', 'PU_Address']]\n",
    "new_uber"
   ]
  },
  {
   "cell_type": "markdown",
   "metadata": {},
   "source": [
    "<div class =\"alert alert-block alert-warning\">\n",
    "\n",
    "> **(b) Create a new column ‘Hour‘ extracting hour information from ‘Time‘. Hint: make sure ‘Time‘ is the correct data type and keep the date added.**"
   ]
  },
  {
   "cell_type": "code",
   "execution_count": 26,
   "metadata": {},
   "outputs": [
    {
     "data": {
      "text/html": [
       "<div>\n",
       "<style scoped>\n",
       "    .dataframe tbody tr th:only-of-type {\n",
       "        vertical-align: middle;\n",
       "    }\n",
       "\n",
       "    .dataframe tbody tr th {\n",
       "        vertical-align: top;\n",
       "    }\n",
       "\n",
       "    .dataframe thead th {\n",
       "        text-align: right;\n",
       "    }\n",
       "</style>\n",
       "<table border=\"1\" class=\"dataframe\">\n",
       "  <thead>\n",
       "    <tr style=\"text-align: right;\">\n",
       "      <th></th>\n",
       "      <th>Time</th>\n",
       "      <th>Status</th>\n",
       "      <th>PU_Address</th>\n",
       "    </tr>\n",
       "  </thead>\n",
       "  <tbody>\n",
       "    <tr>\n",
       "      <th>0</th>\n",
       "      <td>2021-07-16 07:15:00</td>\n",
       "      <td>Cancelled</td>\n",
       "      <td>Brooklyn Museum, 200 Eastern Pkwy., BK NY;</td>\n",
       "    </tr>\n",
       "    <tr>\n",
       "      <th>1</th>\n",
       "      <td>2021-07-16 07:30:00</td>\n",
       "      <td>Arrived</td>\n",
       "      <td>33 Robert Dr., Short Hills NJ;</td>\n",
       "    </tr>\n",
       "    <tr>\n",
       "      <th>2</th>\n",
       "      <td>2021-07-16 08:00:00</td>\n",
       "      <td>Assigned</td>\n",
       "      <td>60 Glenmore Ave., BK NY;</td>\n",
       "    </tr>\n",
       "    <tr>\n",
       "      <th>3</th>\n",
       "      <td>2021-07-16 09:00:00</td>\n",
       "      <td>Assigned</td>\n",
       "      <td>128 East 31 St., BK NY;</td>\n",
       "    </tr>\n",
       "    <tr>\n",
       "      <th>4</th>\n",
       "      <td>2021-07-16 09:30:00</td>\n",
       "      <td>Assigned</td>\n",
       "      <td>139-39 35 Ave., Flushing NY;</td>\n",
       "    </tr>\n",
       "    <tr>\n",
       "      <th>...</th>\n",
       "      <td>...</td>\n",
       "      <td>...</td>\n",
       "      <td>...</td>\n",
       "    </tr>\n",
       "    <tr>\n",
       "      <th>94</th>\n",
       "      <td>2021-07-16 06:00:00</td>\n",
       "      <td>Assigned</td>\n",
       "      <td>266 prospect park west, brooklyn NY;</td>\n",
       "    </tr>\n",
       "    <tr>\n",
       "      <th>95</th>\n",
       "      <td>2021-07-16 08:30:00</td>\n",
       "      <td>Cancelled</td>\n",
       "      <td>42 St., BK NY;</td>\n",
       "    </tr>\n",
       "    <tr>\n",
       "      <th>96</th>\n",
       "      <td>2021-07-16 12:00:00</td>\n",
       "      <td>Arrived</td>\n",
       "      <td>663 51st Street, BK NY;</td>\n",
       "    </tr>\n",
       "    <tr>\n",
       "      <th>97</th>\n",
       "      <td>2021-07-16 16:45:00</td>\n",
       "      <td>Assigned</td>\n",
       "      <td>255 Fieldston Terrace, Bronx NY;</td>\n",
       "    </tr>\n",
       "    <tr>\n",
       "      <th>98</th>\n",
       "      <td>2021-07-16 13:30:00</td>\n",
       "      <td>Arrived</td>\n",
       "      <td>Columbia University, 630 W 168 St., NY NY; ST:...</td>\n",
       "    </tr>\n",
       "  </tbody>\n",
       "</table>\n",
       "<p>99 rows × 3 columns</p>\n",
       "</div>"
      ],
      "text/plain": [
       "                  Time     Status  \\\n",
       "0  2021-07-16 07:15:00  Cancelled   \n",
       "1  2021-07-16 07:30:00    Arrived   \n",
       "2  2021-07-16 08:00:00   Assigned   \n",
       "3  2021-07-16 09:00:00   Assigned   \n",
       "4  2021-07-16 09:30:00   Assigned   \n",
       "..                 ...        ...   \n",
       "94 2021-07-16 06:00:00   Assigned   \n",
       "95 2021-07-16 08:30:00  Cancelled   \n",
       "96 2021-07-16 12:00:00    Arrived   \n",
       "97 2021-07-16 16:45:00   Assigned   \n",
       "98 2021-07-16 13:30:00    Arrived   \n",
       "\n",
       "                                           PU_Address  \n",
       "0          Brooklyn Museum, 200 Eastern Pkwy., BK NY;  \n",
       "1                      33 Robert Dr., Short Hills NJ;  \n",
       "2                            60 Glenmore Ave., BK NY;  \n",
       "3                             128 East 31 St., BK NY;  \n",
       "4                        139-39 35 Ave., Flushing NY;  \n",
       "..                                                ...  \n",
       "94               266 prospect park west, brooklyn NY;  \n",
       "95                                     42 St., BK NY;  \n",
       "96                            663 51st Street, BK NY;  \n",
       "97                   255 Fieldston Terrace, Bronx NY;  \n",
       "98  Columbia University, 630 W 168 St., NY NY; ST:...  \n",
       "\n",
       "[99 rows x 3 columns]"
      ]
     },
     "execution_count": 26,
     "metadata": {},
     "output_type": "execute_result"
    }
   ],
   "source": [
    "df_uber = new_uber.copy()\n",
    "df_uber"
   ]
  },
  {
   "cell_type": "code",
   "execution_count": 27,
   "metadata": {},
   "outputs": [
    {
     "data": {
      "text/html": [
       "<div>\n",
       "<style scoped>\n",
       "    .dataframe tbody tr th:only-of-type {\n",
       "        vertical-align: middle;\n",
       "    }\n",
       "\n",
       "    .dataframe tbody tr th {\n",
       "        vertical-align: top;\n",
       "    }\n",
       "\n",
       "    .dataframe thead th {\n",
       "        text-align: right;\n",
       "    }\n",
       "</style>\n",
       "<table border=\"1\" class=\"dataframe\">\n",
       "  <thead>\n",
       "    <tr style=\"text-align: right;\">\n",
       "      <th></th>\n",
       "      <th>Time</th>\n",
       "      <th>Status</th>\n",
       "      <th>PU_Address</th>\n",
       "      <th>Hour</th>\n",
       "    </tr>\n",
       "  </thead>\n",
       "  <tbody>\n",
       "    <tr>\n",
       "      <th>0</th>\n",
       "      <td>2021-07-16 07:15:00</td>\n",
       "      <td>Cancelled</td>\n",
       "      <td>Brooklyn Museum, 200 Eastern Pkwy., BK NY;</td>\n",
       "      <td>7</td>\n",
       "    </tr>\n",
       "    <tr>\n",
       "      <th>1</th>\n",
       "      <td>2021-07-16 07:30:00</td>\n",
       "      <td>Arrived</td>\n",
       "      <td>33 Robert Dr., Short Hills NJ;</td>\n",
       "      <td>7</td>\n",
       "    </tr>\n",
       "    <tr>\n",
       "      <th>2</th>\n",
       "      <td>2021-07-16 08:00:00</td>\n",
       "      <td>Assigned</td>\n",
       "      <td>60 Glenmore Ave., BK NY;</td>\n",
       "      <td>8</td>\n",
       "    </tr>\n",
       "    <tr>\n",
       "      <th>3</th>\n",
       "      <td>2021-07-16 09:00:00</td>\n",
       "      <td>Assigned</td>\n",
       "      <td>128 East 31 St., BK NY;</td>\n",
       "      <td>9</td>\n",
       "    </tr>\n",
       "    <tr>\n",
       "      <th>4</th>\n",
       "      <td>2021-07-16 09:30:00</td>\n",
       "      <td>Assigned</td>\n",
       "      <td>139-39 35 Ave., Flushing NY;</td>\n",
       "      <td>9</td>\n",
       "    </tr>\n",
       "    <tr>\n",
       "      <th>...</th>\n",
       "      <td>...</td>\n",
       "      <td>...</td>\n",
       "      <td>...</td>\n",
       "      <td>...</td>\n",
       "    </tr>\n",
       "    <tr>\n",
       "      <th>94</th>\n",
       "      <td>2021-07-16 06:00:00</td>\n",
       "      <td>Assigned</td>\n",
       "      <td>266 prospect park west, brooklyn NY;</td>\n",
       "      <td>6</td>\n",
       "    </tr>\n",
       "    <tr>\n",
       "      <th>95</th>\n",
       "      <td>2021-07-16 08:30:00</td>\n",
       "      <td>Cancelled</td>\n",
       "      <td>42 St., BK NY;</td>\n",
       "      <td>8</td>\n",
       "    </tr>\n",
       "    <tr>\n",
       "      <th>96</th>\n",
       "      <td>2021-07-16 12:00:00</td>\n",
       "      <td>Arrived</td>\n",
       "      <td>663 51st Street, BK NY;</td>\n",
       "      <td>12</td>\n",
       "    </tr>\n",
       "    <tr>\n",
       "      <th>97</th>\n",
       "      <td>2021-07-16 16:45:00</td>\n",
       "      <td>Assigned</td>\n",
       "      <td>255 Fieldston Terrace, Bronx NY;</td>\n",
       "      <td>16</td>\n",
       "    </tr>\n",
       "    <tr>\n",
       "      <th>98</th>\n",
       "      <td>2021-07-16 13:30:00</td>\n",
       "      <td>Arrived</td>\n",
       "      <td>Columbia University, 630 W 168 St., NY NY; ST:...</td>\n",
       "      <td>13</td>\n",
       "    </tr>\n",
       "  </tbody>\n",
       "</table>\n",
       "<p>99 rows × 4 columns</p>\n",
       "</div>"
      ],
      "text/plain": [
       "                  Time     Status  \\\n",
       "0  2021-07-16 07:15:00  Cancelled   \n",
       "1  2021-07-16 07:30:00    Arrived   \n",
       "2  2021-07-16 08:00:00   Assigned   \n",
       "3  2021-07-16 09:00:00   Assigned   \n",
       "4  2021-07-16 09:30:00   Assigned   \n",
       "..                 ...        ...   \n",
       "94 2021-07-16 06:00:00   Assigned   \n",
       "95 2021-07-16 08:30:00  Cancelled   \n",
       "96 2021-07-16 12:00:00    Arrived   \n",
       "97 2021-07-16 16:45:00   Assigned   \n",
       "98 2021-07-16 13:30:00    Arrived   \n",
       "\n",
       "                                           PU_Address  Hour  \n",
       "0          Brooklyn Museum, 200 Eastern Pkwy., BK NY;     7  \n",
       "1                      33 Robert Dr., Short Hills NJ;     7  \n",
       "2                            60 Glenmore Ave., BK NY;     8  \n",
       "3                             128 East 31 St., BK NY;     9  \n",
       "4                        139-39 35 Ave., Flushing NY;     9  \n",
       "..                                                ...   ...  \n",
       "94               266 prospect park west, brooklyn NY;     6  \n",
       "95                                     42 St., BK NY;     8  \n",
       "96                            663 51st Street, BK NY;    12  \n",
       "97                   255 Fieldston Terrace, Bronx NY;    16  \n",
       "98  Columbia University, 630 W 168 St., NY NY; ST:...    13  \n",
       "\n",
       "[99 rows x 4 columns]"
      ]
     },
     "execution_count": 27,
     "metadata": {},
     "output_type": "execute_result"
    }
   ],
   "source": [
    "df_uber['Hour'] = df_uber['Time'].dt.hour\n",
    "df_uber"
   ]
  },
  {
   "cell_type": "markdown",
   "metadata": {},
   "source": [
    "<div class =\"alert alert-block alert-warning\">\n",
    "\n",
    "> **(c) Set the index of the data frame to ‘Time‘.**"
   ]
  },
  {
   "cell_type": "code",
   "execution_count": 28,
   "metadata": {},
   "outputs": [
    {
     "data": {
      "text/html": [
       "<div>\n",
       "<style scoped>\n",
       "    .dataframe tbody tr th:only-of-type {\n",
       "        vertical-align: middle;\n",
       "    }\n",
       "\n",
       "    .dataframe tbody tr th {\n",
       "        vertical-align: top;\n",
       "    }\n",
       "\n",
       "    .dataframe thead th {\n",
       "        text-align: right;\n",
       "    }\n",
       "</style>\n",
       "<table border=\"1\" class=\"dataframe\">\n",
       "  <thead>\n",
       "    <tr style=\"text-align: right;\">\n",
       "      <th></th>\n",
       "      <th>Status</th>\n",
       "      <th>PU_Address</th>\n",
       "      <th>Hour</th>\n",
       "    </tr>\n",
       "    <tr>\n",
       "      <th>Time</th>\n",
       "      <th></th>\n",
       "      <th></th>\n",
       "      <th></th>\n",
       "    </tr>\n",
       "  </thead>\n",
       "  <tbody>\n",
       "    <tr>\n",
       "      <th>2021-07-16 07:15:00</th>\n",
       "      <td>Cancelled</td>\n",
       "      <td>Brooklyn Museum, 200 Eastern Pkwy., BK NY;</td>\n",
       "      <td>7</td>\n",
       "    </tr>\n",
       "    <tr>\n",
       "      <th>2021-07-16 07:30:00</th>\n",
       "      <td>Arrived</td>\n",
       "      <td>33 Robert Dr., Short Hills NJ;</td>\n",
       "      <td>7</td>\n",
       "    </tr>\n",
       "    <tr>\n",
       "      <th>2021-07-16 08:00:00</th>\n",
       "      <td>Assigned</td>\n",
       "      <td>60 Glenmore Ave., BK NY;</td>\n",
       "      <td>8</td>\n",
       "    </tr>\n",
       "    <tr>\n",
       "      <th>2021-07-16 09:00:00</th>\n",
       "      <td>Assigned</td>\n",
       "      <td>128 East 31 St., BK NY;</td>\n",
       "      <td>9</td>\n",
       "    </tr>\n",
       "    <tr>\n",
       "      <th>2021-07-16 09:30:00</th>\n",
       "      <td>Assigned</td>\n",
       "      <td>139-39 35 Ave., Flushing NY;</td>\n",
       "      <td>9</td>\n",
       "    </tr>\n",
       "    <tr>\n",
       "      <th>...</th>\n",
       "      <td>...</td>\n",
       "      <td>...</td>\n",
       "      <td>...</td>\n",
       "    </tr>\n",
       "    <tr>\n",
       "      <th>2021-07-16 06:00:00</th>\n",
       "      <td>Assigned</td>\n",
       "      <td>266 prospect park west, brooklyn NY;</td>\n",
       "      <td>6</td>\n",
       "    </tr>\n",
       "    <tr>\n",
       "      <th>2021-07-16 08:30:00</th>\n",
       "      <td>Cancelled</td>\n",
       "      <td>42 St., BK NY;</td>\n",
       "      <td>8</td>\n",
       "    </tr>\n",
       "    <tr>\n",
       "      <th>2021-07-16 12:00:00</th>\n",
       "      <td>Arrived</td>\n",
       "      <td>663 51st Street, BK NY;</td>\n",
       "      <td>12</td>\n",
       "    </tr>\n",
       "    <tr>\n",
       "      <th>2021-07-16 16:45:00</th>\n",
       "      <td>Assigned</td>\n",
       "      <td>255 Fieldston Terrace, Bronx NY;</td>\n",
       "      <td>16</td>\n",
       "    </tr>\n",
       "    <tr>\n",
       "      <th>2021-07-16 13:30:00</th>\n",
       "      <td>Arrived</td>\n",
       "      <td>Columbia University, 630 W 168 St., NY NY; ST:...</td>\n",
       "      <td>13</td>\n",
       "    </tr>\n",
       "  </tbody>\n",
       "</table>\n",
       "<p>99 rows × 3 columns</p>\n",
       "</div>"
      ],
      "text/plain": [
       "                        Status  \\\n",
       "Time                             \n",
       "2021-07-16 07:15:00  Cancelled   \n",
       "2021-07-16 07:30:00    Arrived   \n",
       "2021-07-16 08:00:00   Assigned   \n",
       "2021-07-16 09:00:00   Assigned   \n",
       "2021-07-16 09:30:00   Assigned   \n",
       "...                        ...   \n",
       "2021-07-16 06:00:00   Assigned   \n",
       "2021-07-16 08:30:00  Cancelled   \n",
       "2021-07-16 12:00:00    Arrived   \n",
       "2021-07-16 16:45:00   Assigned   \n",
       "2021-07-16 13:30:00    Arrived   \n",
       "\n",
       "                                                            PU_Address  Hour  \n",
       "Time                                                                          \n",
       "2021-07-16 07:15:00         Brooklyn Museum, 200 Eastern Pkwy., BK NY;     7  \n",
       "2021-07-16 07:30:00                     33 Robert Dr., Short Hills NJ;     7  \n",
       "2021-07-16 08:00:00                           60 Glenmore Ave., BK NY;     8  \n",
       "2021-07-16 09:00:00                            128 East 31 St., BK NY;     9  \n",
       "2021-07-16 09:30:00                       139-39 35 Ave., Flushing NY;     9  \n",
       "...                                                                ...   ...  \n",
       "2021-07-16 06:00:00               266 prospect park west, brooklyn NY;     6  \n",
       "2021-07-16 08:30:00                                     42 St., BK NY;     8  \n",
       "2021-07-16 12:00:00                            663 51st Street, BK NY;    12  \n",
       "2021-07-16 16:45:00                   255 Fieldston Terrace, Bronx NY;    16  \n",
       "2021-07-16 13:30:00  Columbia University, 630 W 168 St., NY NY; ST:...    13  \n",
       "\n",
       "[99 rows x 3 columns]"
      ]
     },
     "execution_count": 28,
     "metadata": {},
     "output_type": "execute_result"
    }
   ],
   "source": [
    "df_uber.set_index('Time', inplace = True)\n",
    "df_uber"
   ]
  },
  {
   "cell_type": "markdown",
   "metadata": {},
   "source": [
    "<div class =\"alert alert-block alert-warning\">\n",
    "\n",
    "> **(d) Display records at positions between 10 and 15 inclusively**"
   ]
  },
  {
   "cell_type": "code",
   "execution_count": 29,
   "metadata": {},
   "outputs": [
    {
     "data": {
      "text/html": [
       "<div>\n",
       "<style scoped>\n",
       "    .dataframe tbody tr th:only-of-type {\n",
       "        vertical-align: middle;\n",
       "    }\n",
       "\n",
       "    .dataframe tbody tr th {\n",
       "        vertical-align: top;\n",
       "    }\n",
       "\n",
       "    .dataframe thead th {\n",
       "        text-align: right;\n",
       "    }\n",
       "</style>\n",
       "<table border=\"1\" class=\"dataframe\">\n",
       "  <thead>\n",
       "    <tr style=\"text-align: right;\">\n",
       "      <th></th>\n",
       "      <th>Status</th>\n",
       "      <th>PU_Address</th>\n",
       "      <th>Hour</th>\n",
       "    </tr>\n",
       "    <tr>\n",
       "      <th>Time</th>\n",
       "      <th></th>\n",
       "      <th></th>\n",
       "      <th></th>\n",
       "    </tr>\n",
       "  </thead>\n",
       "  <tbody>\n",
       "    <tr>\n",
       "      <th>2021-07-16 20:00:00</th>\n",
       "      <td>Assigned</td>\n",
       "      <td>35-36 32 St., Astoria NY;</td>\n",
       "      <td>20</td>\n",
       "    </tr>\n",
       "    <tr>\n",
       "      <th>2021-07-16 03:30:00</th>\n",
       "      <td>Arrived</td>\n",
       "      <td>862 East 21 Street, BK NY;</td>\n",
       "      <td>3</td>\n",
       "    </tr>\n",
       "    <tr>\n",
       "      <th>2021-07-16 14:00:00</th>\n",
       "      <td>Assigned</td>\n",
       "      <td>1539 71st Street, BK NY;</td>\n",
       "      <td>14</td>\n",
       "    </tr>\n",
       "    <tr>\n",
       "      <th>2021-07-16 15:00:00</th>\n",
       "      <td>Arrived</td>\n",
       "      <td>208 Elmwood ave, BK NY;</td>\n",
       "      <td>15</td>\n",
       "    </tr>\n",
       "    <tr>\n",
       "      <th>2021-07-16 20:45:00</th>\n",
       "      <td>Arrived</td>\n",
       "      <td>543 1 St., BK NY;</td>\n",
       "      <td>20</td>\n",
       "    </tr>\n",
       "    <tr>\n",
       "      <th>2021-07-16 05:00:00</th>\n",
       "      <td>Arrived</td>\n",
       "      <td>513 Montgomery StreetBK NY;</td>\n",
       "      <td>5</td>\n",
       "    </tr>\n",
       "  </tbody>\n",
       "</table>\n",
       "</div>"
      ],
      "text/plain": [
       "                       Status                   PU_Address  Hour\n",
       "Time                                                            \n",
       "2021-07-16 20:00:00  Assigned    35-36 32 St., Astoria NY;    20\n",
       "2021-07-16 03:30:00   Arrived   862 East 21 Street, BK NY;     3\n",
       "2021-07-16 14:00:00  Assigned     1539 71st Street, BK NY;    14\n",
       "2021-07-16 15:00:00   Arrived      208 Elmwood ave, BK NY;    15\n",
       "2021-07-16 20:45:00   Arrived            543 1 St., BK NY;    20\n",
       "2021-07-16 05:00:00   Arrived  513 Montgomery StreetBK NY;     5"
      ]
     },
     "execution_count": 29,
     "metadata": {},
     "output_type": "execute_result"
    }
   ],
   "source": [
    "df_uber.iloc[10:16]"
   ]
  },
  {
   "cell_type": "markdown",
   "metadata": {},
   "source": [
    "<div class =\"alert alert-block alert-warning\">\n",
    "\n",
    "> **(e) Display the ‘PU_Address‘ for records whose index is ’Today’s date 20:00:00’: hint: today’s date depends on the day you are working on the question.**"
   ]
  },
  {
   "cell_type": "code",
   "execution_count": 30,
   "metadata": {},
   "outputs": [
    {
     "data": {
      "text/plain": [
       "array([ True,  True, False, False, False, False, False, False, False,\n",
       "       False, False, False, False, False, False, False, False, False,\n",
       "        True, False, False, False, False, False, False, False, False,\n",
       "       False, False, False, False,  True, False, False, False, False,\n",
       "       False, False, False, False, False, False, False, False, False,\n",
       "       False, False, False, False, False, False, False, False, False,\n",
       "       False, False, False, False, False, False, False, False, False,\n",
       "       False,  True, False, False, False, False, False,  True, False,\n",
       "       False, False, False, False, False, False, False, False, False,\n",
       "       False, False, False, False, False, False, False, False, False,\n",
       "       False, False, False, False, False, False, False, False, False])"
      ]
     },
     "execution_count": 30,
     "metadata": {},
     "output_type": "execute_result"
    }
   ],
   "source": [
    "df_uber.index.hour == 7\n"
   ]
  },
  {
   "cell_type": "code",
   "execution_count": 31,
   "metadata": {},
   "outputs": [
    {
     "data": {
      "text/html": [
       "<div>\n",
       "<style scoped>\n",
       "    .dataframe tbody tr th:only-of-type {\n",
       "        vertical-align: middle;\n",
       "    }\n",
       "\n",
       "    .dataframe tbody tr th {\n",
       "        vertical-align: top;\n",
       "    }\n",
       "\n",
       "    .dataframe thead th {\n",
       "        text-align: right;\n",
       "    }\n",
       "</style>\n",
       "<table border=\"1\" class=\"dataframe\">\n",
       "  <thead>\n",
       "    <tr style=\"text-align: right;\">\n",
       "      <th></th>\n",
       "      <th>Status</th>\n",
       "      <th>PU_Address</th>\n",
       "      <th>Hour</th>\n",
       "    </tr>\n",
       "    <tr>\n",
       "      <th>Time</th>\n",
       "      <th></th>\n",
       "      <th></th>\n",
       "      <th></th>\n",
       "    </tr>\n",
       "  </thead>\n",
       "  <tbody>\n",
       "    <tr>\n",
       "      <th>2021-07-16 20:00:00</th>\n",
       "      <td>Assigned</td>\n",
       "      <td>35-36 32 St., Astoria NY;</td>\n",
       "      <td>20</td>\n",
       "    </tr>\n",
       "    <tr>\n",
       "      <th>2021-07-16 20:00:00</th>\n",
       "      <td>Arrived</td>\n",
       "      <td>717 President Street, BK NY;</td>\n",
       "      <td>20</td>\n",
       "    </tr>\n",
       "  </tbody>\n",
       "</table>\n",
       "</div>"
      ],
      "text/plain": [
       "                       Status                    PU_Address  Hour\n",
       "Time                                                             \n",
       "2021-07-16 20:00:00  Assigned     35-36 32 St., Astoria NY;    20\n",
       "2021-07-16 20:00:00   Arrived  717 President Street, BK NY;    20"
      ]
     },
     "execution_count": 31,
     "metadata": {},
     "output_type": "execute_result"
    }
   ],
   "source": [
    "df_uber[(df_uber.index.hour == 20) & (df_uber.index.minute == 0)]"
   ]
  },
  {
   "cell_type": "markdown",
   "metadata": {},
   "source": [
    "<div class =\"alert alert-block alert-warning\">\n",
    "\n",
    "> **(f) Reset the data frame so that ‘Time‘ is a column again**"
   ]
  },
  {
   "cell_type": "code",
   "execution_count": 32,
   "metadata": {},
   "outputs": [],
   "source": [
    "df_uber.reset_index('Time', inplace = True)"
   ]
  },
  {
   "cell_type": "code",
   "execution_count": 33,
   "metadata": {},
   "outputs": [
    {
     "data": {
      "text/html": [
       "<div>\n",
       "<style scoped>\n",
       "    .dataframe tbody tr th:only-of-type {\n",
       "        vertical-align: middle;\n",
       "    }\n",
       "\n",
       "    .dataframe tbody tr th {\n",
       "        vertical-align: top;\n",
       "    }\n",
       "\n",
       "    .dataframe thead th {\n",
       "        text-align: right;\n",
       "    }\n",
       "</style>\n",
       "<table border=\"1\" class=\"dataframe\">\n",
       "  <thead>\n",
       "    <tr style=\"text-align: right;\">\n",
       "      <th></th>\n",
       "      <th>Time</th>\n",
       "      <th>Status</th>\n",
       "      <th>PU_Address</th>\n",
       "      <th>Hour</th>\n",
       "    </tr>\n",
       "  </thead>\n",
       "  <tbody>\n",
       "    <tr>\n",
       "      <th>0</th>\n",
       "      <td>2021-07-16 07:15:00</td>\n",
       "      <td>Cancelled</td>\n",
       "      <td>Brooklyn Museum, 200 Eastern Pkwy., BK NY;</td>\n",
       "      <td>7</td>\n",
       "    </tr>\n",
       "    <tr>\n",
       "      <th>1</th>\n",
       "      <td>2021-07-16 07:30:00</td>\n",
       "      <td>Arrived</td>\n",
       "      <td>33 Robert Dr., Short Hills NJ;</td>\n",
       "      <td>7</td>\n",
       "    </tr>\n",
       "    <tr>\n",
       "      <th>2</th>\n",
       "      <td>2021-07-16 08:00:00</td>\n",
       "      <td>Assigned</td>\n",
       "      <td>60 Glenmore Ave., BK NY;</td>\n",
       "      <td>8</td>\n",
       "    </tr>\n",
       "    <tr>\n",
       "      <th>3</th>\n",
       "      <td>2021-07-16 09:00:00</td>\n",
       "      <td>Assigned</td>\n",
       "      <td>128 East 31 St., BK NY;</td>\n",
       "      <td>9</td>\n",
       "    </tr>\n",
       "    <tr>\n",
       "      <th>4</th>\n",
       "      <td>2021-07-16 09:30:00</td>\n",
       "      <td>Assigned</td>\n",
       "      <td>139-39 35 Ave., Flushing NY;</td>\n",
       "      <td>9</td>\n",
       "    </tr>\n",
       "    <tr>\n",
       "      <th>...</th>\n",
       "      <td>...</td>\n",
       "      <td>...</td>\n",
       "      <td>...</td>\n",
       "      <td>...</td>\n",
       "    </tr>\n",
       "    <tr>\n",
       "      <th>94</th>\n",
       "      <td>2021-07-16 06:00:00</td>\n",
       "      <td>Assigned</td>\n",
       "      <td>266 prospect park west, brooklyn NY;</td>\n",
       "      <td>6</td>\n",
       "    </tr>\n",
       "    <tr>\n",
       "      <th>95</th>\n",
       "      <td>2021-07-16 08:30:00</td>\n",
       "      <td>Cancelled</td>\n",
       "      <td>42 St., BK NY;</td>\n",
       "      <td>8</td>\n",
       "    </tr>\n",
       "    <tr>\n",
       "      <th>96</th>\n",
       "      <td>2021-07-16 12:00:00</td>\n",
       "      <td>Arrived</td>\n",
       "      <td>663 51st Street, BK NY;</td>\n",
       "      <td>12</td>\n",
       "    </tr>\n",
       "    <tr>\n",
       "      <th>97</th>\n",
       "      <td>2021-07-16 16:45:00</td>\n",
       "      <td>Assigned</td>\n",
       "      <td>255 Fieldston Terrace, Bronx NY;</td>\n",
       "      <td>16</td>\n",
       "    </tr>\n",
       "    <tr>\n",
       "      <th>98</th>\n",
       "      <td>2021-07-16 13:30:00</td>\n",
       "      <td>Arrived</td>\n",
       "      <td>Columbia University, 630 W 168 St., NY NY; ST:...</td>\n",
       "      <td>13</td>\n",
       "    </tr>\n",
       "  </tbody>\n",
       "</table>\n",
       "<p>99 rows × 4 columns</p>\n",
       "</div>"
      ],
      "text/plain": [
       "                  Time     Status  \\\n",
       "0  2021-07-16 07:15:00  Cancelled   \n",
       "1  2021-07-16 07:30:00    Arrived   \n",
       "2  2021-07-16 08:00:00   Assigned   \n",
       "3  2021-07-16 09:00:00   Assigned   \n",
       "4  2021-07-16 09:30:00   Assigned   \n",
       "..                 ...        ...   \n",
       "94 2021-07-16 06:00:00   Assigned   \n",
       "95 2021-07-16 08:30:00  Cancelled   \n",
       "96 2021-07-16 12:00:00    Arrived   \n",
       "97 2021-07-16 16:45:00   Assigned   \n",
       "98 2021-07-16 13:30:00    Arrived   \n",
       "\n",
       "                                           PU_Address  Hour  \n",
       "0          Brooklyn Museum, 200 Eastern Pkwy., BK NY;     7  \n",
       "1                      33 Robert Dr., Short Hills NJ;     7  \n",
       "2                            60 Glenmore Ave., BK NY;     8  \n",
       "3                             128 East 31 St., BK NY;     9  \n",
       "4                        139-39 35 Ave., Flushing NY;     9  \n",
       "..                                                ...   ...  \n",
       "94               266 prospect park west, brooklyn NY;     6  \n",
       "95                                     42 St., BK NY;     8  \n",
       "96                            663 51st Street, BK NY;    12  \n",
       "97                   255 Fieldston Terrace, Bronx NY;    16  \n",
       "98  Columbia University, 630 W 168 St., NY NY; ST:...    13  \n",
       "\n",
       "[99 rows x 4 columns]"
      ]
     },
     "execution_count": 33,
     "metadata": {},
     "output_type": "execute_result"
    }
   ],
   "source": [
    "df_uber"
   ]
  },
  {
   "cell_type": "markdown",
   "metadata": {},
   "source": [
    "<div class=\"alert alert-block alert-success\">  \n",
    "\n",
    "### Question 5: You work for a large school district as a data analyst. Your boss wants to purchase a large amount of cereal for school breakfasts. He needs to choose a manufacturer and product. He wants you to prepare a presentation for the executive team. You are provided with some data in cereal.csv:\n"
   ]
  },
  {
   "cell_type": "markdown",
   "metadata": {},
   "source": [
    "<div class =\"alert alert-block alert-warning\">\n",
    "\n",
    "> **(a) Initially explore the dataset by looking at the number of records, column names, column types and few record values. Through this initial look, combined with your boss’s goal above, list five analytics queries or questions that you would have about this dataset in your exploratory process.**\n"
   ]
  },
  {
   "cell_type": "code",
   "execution_count": 34,
   "metadata": {},
   "outputs": [
    {
     "data": {
      "text/html": [
       "<div>\n",
       "<style scoped>\n",
       "    .dataframe tbody tr th:only-of-type {\n",
       "        vertical-align: middle;\n",
       "    }\n",
       "\n",
       "    .dataframe tbody tr th {\n",
       "        vertical-align: top;\n",
       "    }\n",
       "\n",
       "    .dataframe thead th {\n",
       "        text-align: right;\n",
       "    }\n",
       "</style>\n",
       "<table border=\"1\" class=\"dataframe\">\n",
       "  <thead>\n",
       "    <tr style=\"text-align: right;\">\n",
       "      <th></th>\n",
       "      <th>name</th>\n",
       "      <th>mfr</th>\n",
       "      <th>type</th>\n",
       "      <th>calories</th>\n",
       "      <th>protein</th>\n",
       "      <th>fat</th>\n",
       "      <th>sodium</th>\n",
       "      <th>fiber</th>\n",
       "      <th>carbo</th>\n",
       "      <th>sugars</th>\n",
       "      <th>potass</th>\n",
       "      <th>vitamins</th>\n",
       "      <th>shelf</th>\n",
       "      <th>weight</th>\n",
       "      <th>cups</th>\n",
       "      <th>rating</th>\n",
       "    </tr>\n",
       "  </thead>\n",
       "  <tbody>\n",
       "    <tr>\n",
       "      <th>0</th>\n",
       "      <td>100% Bran</td>\n",
       "      <td>N</td>\n",
       "      <td>C</td>\n",
       "      <td>70</td>\n",
       "      <td>4</td>\n",
       "      <td>1</td>\n",
       "      <td>130</td>\n",
       "      <td>10.0</td>\n",
       "      <td>5.0</td>\n",
       "      <td>6</td>\n",
       "      <td>280</td>\n",
       "      <td>25</td>\n",
       "      <td>3</td>\n",
       "      <td>1.0</td>\n",
       "      <td>0.33</td>\n",
       "      <td>68.402973</td>\n",
       "    </tr>\n",
       "    <tr>\n",
       "      <th>1</th>\n",
       "      <td>100% Natural Bran</td>\n",
       "      <td>Q</td>\n",
       "      <td>C</td>\n",
       "      <td>120</td>\n",
       "      <td>3</td>\n",
       "      <td>5</td>\n",
       "      <td>15</td>\n",
       "      <td>2.0</td>\n",
       "      <td>8.0</td>\n",
       "      <td>8</td>\n",
       "      <td>135</td>\n",
       "      <td>0</td>\n",
       "      <td>3</td>\n",
       "      <td>1.0</td>\n",
       "      <td>1.00</td>\n",
       "      <td>33.983679</td>\n",
       "    </tr>\n",
       "    <tr>\n",
       "      <th>2</th>\n",
       "      <td>All-Bran</td>\n",
       "      <td>K</td>\n",
       "      <td>C</td>\n",
       "      <td>70</td>\n",
       "      <td>4</td>\n",
       "      <td>1</td>\n",
       "      <td>260</td>\n",
       "      <td>9.0</td>\n",
       "      <td>7.0</td>\n",
       "      <td>5</td>\n",
       "      <td>320</td>\n",
       "      <td>25</td>\n",
       "      <td>3</td>\n",
       "      <td>1.0</td>\n",
       "      <td>0.33</td>\n",
       "      <td>59.425505</td>\n",
       "    </tr>\n",
       "    <tr>\n",
       "      <th>3</th>\n",
       "      <td>All-Bran with Extra Fiber</td>\n",
       "      <td>K</td>\n",
       "      <td>C</td>\n",
       "      <td>50</td>\n",
       "      <td>4</td>\n",
       "      <td>0</td>\n",
       "      <td>140</td>\n",
       "      <td>14.0</td>\n",
       "      <td>8.0</td>\n",
       "      <td>0</td>\n",
       "      <td>330</td>\n",
       "      <td>25</td>\n",
       "      <td>3</td>\n",
       "      <td>1.0</td>\n",
       "      <td>0.50</td>\n",
       "      <td>93.704912</td>\n",
       "    </tr>\n",
       "    <tr>\n",
       "      <th>4</th>\n",
       "      <td>Almond Delight</td>\n",
       "      <td>R</td>\n",
       "      <td>C</td>\n",
       "      <td>110</td>\n",
       "      <td>2</td>\n",
       "      <td>2</td>\n",
       "      <td>200</td>\n",
       "      <td>1.0</td>\n",
       "      <td>14.0</td>\n",
       "      <td>8</td>\n",
       "      <td>-1</td>\n",
       "      <td>25</td>\n",
       "      <td>3</td>\n",
       "      <td>1.0</td>\n",
       "      <td>0.75</td>\n",
       "      <td>34.384843</td>\n",
       "    </tr>\n",
       "  </tbody>\n",
       "</table>\n",
       "</div>"
      ],
      "text/plain": [
       "                        name mfr type  calories  protein  fat  sodium  fiber  \\\n",
       "0                  100% Bran   N    C        70        4    1     130   10.0   \n",
       "1          100% Natural Bran   Q    C       120        3    5      15    2.0   \n",
       "2                   All-Bran   K    C        70        4    1     260    9.0   \n",
       "3  All-Bran with Extra Fiber   K    C        50        4    0     140   14.0   \n",
       "4             Almond Delight   R    C       110        2    2     200    1.0   \n",
       "\n",
       "   carbo  sugars  potass  vitamins  shelf  weight  cups     rating  \n",
       "0    5.0       6     280        25      3     1.0  0.33  68.402973  \n",
       "1    8.0       8     135         0      3     1.0  1.00  33.983679  \n",
       "2    7.0       5     320        25      3     1.0  0.33  59.425505  \n",
       "3    8.0       0     330        25      3     1.0  0.50  93.704912  \n",
       "4   14.0       8      -1        25      3     1.0  0.75  34.384843  "
      ]
     },
     "execution_count": 34,
     "metadata": {},
     "output_type": "execute_result"
    }
   ],
   "source": [
    "master_cereal = pd.read_csv('cereal.csv')\n",
    "master_cereal.head()"
   ]
  },
  {
   "cell_type": "code",
   "execution_count": 35,
   "metadata": {},
   "outputs": [
    {
     "name": "stdout",
     "output_type": "stream",
     "text": [
      "<class 'pandas.core.frame.DataFrame'>\n",
      "RangeIndex: 77 entries, 0 to 76\n",
      "Data columns (total 16 columns):\n",
      " #   Column    Non-Null Count  Dtype  \n",
      "---  ------    --------------  -----  \n",
      " 0   name      77 non-null     object \n",
      " 1   mfr       77 non-null     object \n",
      " 2   type      77 non-null     object \n",
      " 3   calories  77 non-null     int64  \n",
      " 4   protein   77 non-null     int64  \n",
      " 5   fat       77 non-null     int64  \n",
      " 6   sodium    77 non-null     int64  \n",
      " 7   fiber     77 non-null     float64\n",
      " 8   carbo     77 non-null     float64\n",
      " 9   sugars    77 non-null     int64  \n",
      " 10  potass    77 non-null     int64  \n",
      " 11  vitamins  77 non-null     int64  \n",
      " 12  shelf     77 non-null     int64  \n",
      " 13  weight    77 non-null     float64\n",
      " 14  cups      77 non-null     float64\n",
      " 15  rating    77 non-null     float64\n",
      "dtypes: float64(5), int64(8), object(3)\n",
      "memory usage: 9.8+ KB\n"
     ]
    }
   ],
   "source": [
    "master_cereal.info()"
   ]
  },
  {
   "cell_type": "markdown",
   "metadata": {},
   "source": [
    "<div class =\"alert alert-block alert-warning\">\n",
    "\n",
    ">> **Questions**\n",
    "1. Which manufacturers produce the top five highest rating cereals?\n",
    "2. Which manufacturer produces healthier cereal such that it is high in vitamins and low in sugar?\n",
    "3. Which type of cereal has a higher rating in average?\n",
    "4. What is the average cups in a serving for a typical cereal?\n",
    "5. Would more cups in a serving be more popular?"
   ]
  },
  {
   "cell_type": "markdown",
   "metadata": {},
   "source": [
    "<div class =\"alert alert-block alert-warning\">\n",
    "\n",
    "> **(b) To answer the questions you have listed above, what columns from this data you would need? Print some basic statistical summaries and plots for at least 5 columns you would need to check missing values, extreme values and value distributions. List three findings you have at this point.**\n",
    ">> In order to answer the questions I have listed above, I would need the columns *mfr*, *type*, *sugars*, *vitamins*, *cups*, and *rating* .\n",
    ">> - mfr: Manufacturer of cereal:\n",
    "    - A = American Home Food Products\n",
    "    - G = General Mills\n",
    "    - K = Kelloggs\n",
    "    - N = Nabisco\n",
    "    - P = Post\n",
    "    - Q = Quaker Oats\n",
    "    - R = Ralston Purina\n",
    ">> - type: cold/hot\n",
    ">> - sugars: grams of sugars\n",
    ">> - vitamins:  vitamins and  minerals -  0,  25,  or  100,  indicating  the typical  percentage ofFDA recommended\n",
    ">> - cups: number of cups in one serving\n",
    ">> - rating: a rating of the cereals"
   ]
  },
  {
   "cell_type": "code",
   "execution_count": 36,
   "metadata": {},
   "outputs": [
    {
     "data": {
      "text/plain": [
       "Index(['name', 'mfr', 'type', 'calories', 'protein', 'fat', 'sodium', 'fiber',\n",
       "       'carbo', 'sugars', 'potass', 'vitamins', 'shelf', 'weight', 'cups',\n",
       "       'rating'],\n",
       "      dtype='object')"
      ]
     },
     "execution_count": 36,
     "metadata": {},
     "output_type": "execute_result"
    }
   ],
   "source": [
    "master_cereal.columns"
   ]
  },
  {
   "cell_type": "code",
   "execution_count": 37,
   "metadata": {},
   "outputs": [],
   "source": [
    "df_cereal = master_cereal[['mfr','type', 'sugars', 'vitamins', 'cups', 'rating']]"
   ]
  },
  {
   "cell_type": "code",
   "execution_count": 38,
   "metadata": {},
   "outputs": [
    {
     "data": {
      "text/html": [
       "<div>\n",
       "<style scoped>\n",
       "    .dataframe tbody tr th:only-of-type {\n",
       "        vertical-align: middle;\n",
       "    }\n",
       "\n",
       "    .dataframe tbody tr th {\n",
       "        vertical-align: top;\n",
       "    }\n",
       "\n",
       "    .dataframe thead th {\n",
       "        text-align: right;\n",
       "    }\n",
       "</style>\n",
       "<table border=\"1\" class=\"dataframe\">\n",
       "  <thead>\n",
       "    <tr style=\"text-align: right;\">\n",
       "      <th></th>\n",
       "      <th>mfr</th>\n",
       "      <th>type</th>\n",
       "      <th>sugars</th>\n",
       "      <th>vitamins</th>\n",
       "      <th>cups</th>\n",
       "      <th>rating</th>\n",
       "    </tr>\n",
       "  </thead>\n",
       "  <tbody>\n",
       "    <tr>\n",
       "      <th>0</th>\n",
       "      <td>N</td>\n",
       "      <td>C</td>\n",
       "      <td>6</td>\n",
       "      <td>25</td>\n",
       "      <td>0.33</td>\n",
       "      <td>68.402973</td>\n",
       "    </tr>\n",
       "    <tr>\n",
       "      <th>1</th>\n",
       "      <td>Q</td>\n",
       "      <td>C</td>\n",
       "      <td>8</td>\n",
       "      <td>0</td>\n",
       "      <td>1.00</td>\n",
       "      <td>33.983679</td>\n",
       "    </tr>\n",
       "    <tr>\n",
       "      <th>2</th>\n",
       "      <td>K</td>\n",
       "      <td>C</td>\n",
       "      <td>5</td>\n",
       "      <td>25</td>\n",
       "      <td>0.33</td>\n",
       "      <td>59.425505</td>\n",
       "    </tr>\n",
       "    <tr>\n",
       "      <th>3</th>\n",
       "      <td>K</td>\n",
       "      <td>C</td>\n",
       "      <td>0</td>\n",
       "      <td>25</td>\n",
       "      <td>0.50</td>\n",
       "      <td>93.704912</td>\n",
       "    </tr>\n",
       "    <tr>\n",
       "      <th>4</th>\n",
       "      <td>R</td>\n",
       "      <td>C</td>\n",
       "      <td>8</td>\n",
       "      <td>25</td>\n",
       "      <td>0.75</td>\n",
       "      <td>34.384843</td>\n",
       "    </tr>\n",
       "  </tbody>\n",
       "</table>\n",
       "</div>"
      ],
      "text/plain": [
       "  mfr type  sugars  vitamins  cups     rating\n",
       "0   N    C       6        25  0.33  68.402973\n",
       "1   Q    C       8         0  1.00  33.983679\n",
       "2   K    C       5        25  0.33  59.425505\n",
       "3   K    C       0        25  0.50  93.704912\n",
       "4   R    C       8        25  0.75  34.384843"
      ]
     },
     "execution_count": 38,
     "metadata": {},
     "output_type": "execute_result"
    }
   ],
   "source": [
    "df_cereal.head()"
   ]
  },
  {
   "cell_type": "code",
   "execution_count": 39,
   "metadata": {},
   "outputs": [
    {
     "name": "stdout",
     "output_type": "stream",
     "text": [
      "<class 'pandas.core.frame.DataFrame'>\n",
      "RangeIndex: 77 entries, 0 to 76\n",
      "Data columns (total 6 columns):\n",
      " #   Column    Non-Null Count  Dtype  \n",
      "---  ------    --------------  -----  \n",
      " 0   mfr       77 non-null     object \n",
      " 1   type      77 non-null     object \n",
      " 2   sugars    77 non-null     int64  \n",
      " 3   vitamins  77 non-null     int64  \n",
      " 4   cups      77 non-null     float64\n",
      " 5   rating    77 non-null     float64\n",
      "dtypes: float64(2), int64(2), object(2)\n",
      "memory usage: 3.7+ KB\n"
     ]
    }
   ],
   "source": [
    "df_cereal.info()"
   ]
  },
  {
   "cell_type": "code",
   "execution_count": 40,
   "metadata": {},
   "outputs": [
    {
     "data": {
      "text/html": [
       "<div>\n",
       "<style scoped>\n",
       "    .dataframe tbody tr th:only-of-type {\n",
       "        vertical-align: middle;\n",
       "    }\n",
       "\n",
       "    .dataframe tbody tr th {\n",
       "        vertical-align: top;\n",
       "    }\n",
       "\n",
       "    .dataframe thead th {\n",
       "        text-align: right;\n",
       "    }\n",
       "</style>\n",
       "<table border=\"1\" class=\"dataframe\">\n",
       "  <thead>\n",
       "    <tr style=\"text-align: right;\">\n",
       "      <th></th>\n",
       "      <th>sugars</th>\n",
       "      <th>vitamins</th>\n",
       "      <th>cups</th>\n",
       "      <th>rating</th>\n",
       "    </tr>\n",
       "  </thead>\n",
       "  <tbody>\n",
       "    <tr>\n",
       "      <th>count</th>\n",
       "      <td>77.000000</td>\n",
       "      <td>77.000000</td>\n",
       "      <td>77.000000</td>\n",
       "      <td>77.000000</td>\n",
       "    </tr>\n",
       "    <tr>\n",
       "      <th>mean</th>\n",
       "      <td>6.922078</td>\n",
       "      <td>28.246753</td>\n",
       "      <td>0.821039</td>\n",
       "      <td>42.665705</td>\n",
       "    </tr>\n",
       "    <tr>\n",
       "      <th>std</th>\n",
       "      <td>4.444885</td>\n",
       "      <td>22.342523</td>\n",
       "      <td>0.232716</td>\n",
       "      <td>14.047289</td>\n",
       "    </tr>\n",
       "    <tr>\n",
       "      <th>min</th>\n",
       "      <td>-1.000000</td>\n",
       "      <td>0.000000</td>\n",
       "      <td>0.250000</td>\n",
       "      <td>18.042851</td>\n",
       "    </tr>\n",
       "    <tr>\n",
       "      <th>25%</th>\n",
       "      <td>3.000000</td>\n",
       "      <td>25.000000</td>\n",
       "      <td>0.670000</td>\n",
       "      <td>33.174094</td>\n",
       "    </tr>\n",
       "    <tr>\n",
       "      <th>50%</th>\n",
       "      <td>7.000000</td>\n",
       "      <td>25.000000</td>\n",
       "      <td>0.750000</td>\n",
       "      <td>40.400208</td>\n",
       "    </tr>\n",
       "    <tr>\n",
       "      <th>75%</th>\n",
       "      <td>11.000000</td>\n",
       "      <td>25.000000</td>\n",
       "      <td>1.000000</td>\n",
       "      <td>50.828392</td>\n",
       "    </tr>\n",
       "    <tr>\n",
       "      <th>max</th>\n",
       "      <td>15.000000</td>\n",
       "      <td>100.000000</td>\n",
       "      <td>1.500000</td>\n",
       "      <td>93.704912</td>\n",
       "    </tr>\n",
       "  </tbody>\n",
       "</table>\n",
       "</div>"
      ],
      "text/plain": [
       "          sugars    vitamins       cups     rating\n",
       "count  77.000000   77.000000  77.000000  77.000000\n",
       "mean    6.922078   28.246753   0.821039  42.665705\n",
       "std     4.444885   22.342523   0.232716  14.047289\n",
       "min    -1.000000    0.000000   0.250000  18.042851\n",
       "25%     3.000000   25.000000   0.670000  33.174094\n",
       "50%     7.000000   25.000000   0.750000  40.400208\n",
       "75%    11.000000   25.000000   1.000000  50.828392\n",
       "max    15.000000  100.000000   1.500000  93.704912"
      ]
     },
     "execution_count": 40,
     "metadata": {},
     "output_type": "execute_result"
    }
   ],
   "source": [
    "df_cereal.describe()"
   ]
  },
  {
   "cell_type": "code",
   "execution_count": 41,
   "metadata": {},
   "outputs": [
    {
     "data": {
      "text/plain": [
       "1"
      ]
     },
     "execution_count": 41,
     "metadata": {},
     "output_type": "execute_result"
    }
   ],
   "source": [
    "df_cereal['sugars'].value_counts().loc[-1]"
   ]
  },
  {
   "cell_type": "code",
   "execution_count": 42,
   "metadata": {},
   "outputs": [
    {
     "data": {
      "text/plain": [
       " 3     13\n",
       " 0      7\n",
       " 12     7\n",
       " 6      7\n",
       " 10     5\n",
       " 5      5\n",
       " 8      5\n",
       " 11     5\n",
       " 9      4\n",
       " 7      4\n",
       " 13     4\n",
       " 14     3\n",
       " 2      3\n",
       " 15     2\n",
       " 4      1\n",
       " 1      1\n",
       "-1      1\n",
       "Name: sugars, dtype: int64"
      ]
     },
     "execution_count": 42,
     "metadata": {},
     "output_type": "execute_result"
    }
   ],
   "source": [
    "df_cereal['sugars'].value_counts()"
   ]
  },
  {
   "cell_type": "code",
   "execution_count": 43,
   "metadata": {},
   "outputs": [
    {
     "data": {
      "text/plain": [
       "{'whiskers': [<matplotlib.lines.Line2D at 0x7fe799e14d30>,\n",
       "  <matplotlib.lines.Line2D at 0x7fe799e14e10>],\n",
       " 'caps': [<matplotlib.lines.Line2D at 0x7fe799e2d400>,\n",
       "  <matplotlib.lines.Line2D at 0x7fe799e2d748>],\n",
       " 'boxes': [<matplotlib.lines.Line2D at 0x7fe799e14940>],\n",
       " 'medians': [<matplotlib.lines.Line2D at 0x7fe799e2da90>],\n",
       " 'fliers': [<matplotlib.lines.Line2D at 0x7fe799e2ddd8>],\n",
       " 'means': []}"
      ]
     },
     "execution_count": 43,
     "metadata": {},
     "output_type": "execute_result"
    },
    {
     "data": {
      "image/png": "[encoded data removed]",
      "text/plain": [
       "<Figure size 432x288 with 1 Axes>"
      ]
     },
     "metadata": {
      "image/png": {
       "height": 248,
       "width": 369
      },
      "needs_background": "light"
     },
     "output_type": "display_data"
    }
   ],
   "source": [
    "fig, ax = plt.subplots(figsize = (6,4))\n",
    "\n",
    "ax.boxplot(df_cereal['sugars'])"
   ]
  },
  {
   "cell_type": "markdown",
   "metadata": {},
   "source": [
    "<div class =\"alert alert-block alert-warning\">\n",
    "\n",
    ">> **Observations**\n",
    " - In the *sugars* column, the minimum grams of sugar is -1 which is not logical as the least amount of sugar anything could contain is 0 gram. After delving more into this weird phenonme, I noticed there was only one element of -1 out of 77 elements. On the boxplot of df_cereal['sugars'], the one element of -1 didn't caused a big impact. It wasn't necessary to replace the element, however, it would be better to change it from -1 to 0 so the grams of sugars would make more logical sense. \n",
    " - The *mfr* column is currently in object dtype, however, changing the *mfr* column from object type to category dtype would help more in the later data exploration portion.\n",
    " - The *type* column is also currently in object dtype, however, changeing the dtype of it from object to categorical dtype would make explorating the type of cereal more efficient.\n",
    " - The *mfr* column contains the abbreviation of the manfacturers' names. Thus, I would need to keep referring back to above statements for clarification on the abbreviation. In order to solve that, I would subsitute back the actual names for the abbreviated names. "
   ]
  },
  {
   "cell_type": "code",
   "execution_count": 44,
   "metadata": {},
   "outputs": [],
   "source": [
    "cereal = df_cereal.copy()"
   ]
  },
  {
   "cell_type": "code",
   "execution_count": 45,
   "metadata": {},
   "outputs": [
    {
     "data": {
      "text/plain": [
       "Int64Index([57], dtype='int64')"
      ]
     },
     "execution_count": 45,
     "metadata": {},
     "output_type": "execute_result"
    }
   ],
   "source": [
    "cereal[cereal['sugars']== -1].index"
   ]
  },
  {
   "cell_type": "code",
   "execution_count": 46,
   "metadata": {},
   "outputs": [
    {
     "name": "stderr",
     "output_type": "stream",
     "text": [
      "/Users/amandaliluo/anaconda3/lib/python3.7/site-packages/pandas/core/indexing.py:671: SettingWithCopyWarning: \n",
      "A value is trying to be set on a copy of a slice from a DataFrame\n",
      "\n",
      "See the caveats in the documentation: https://pandas.pydata.org/pandas-docs/stable/user_guide/indexing.html#returning-a-view-versus-a-copy\n",
      "  self._setitem_with_indexer(indexer, value)\n"
     ]
    }
   ],
   "source": [
    "cereal['sugars'].iloc[57] = 0"
   ]
  },
  {
   "cell_type": "code",
   "execution_count": 47,
   "metadata": {},
   "outputs": [
    {
     "data": {
      "text/plain": [
       "mfr               Q\n",
       "type              H\n",
       "sugars            0\n",
       "vitamins          0\n",
       "cups           0.67\n",
       "rating      50.8284\n",
       "Name: 57, dtype: object"
      ]
     },
     "execution_count": 47,
     "metadata": {},
     "output_type": "execute_result"
    }
   ],
   "source": [
    "cereal.iloc[57]"
   ]
  },
  {
   "cell_type": "code",
   "execution_count": 48,
   "metadata": {},
   "outputs": [],
   "source": [
    "cereal['mfr'] = cereal['mfr'].astype('category')\n",
    "cereal['type'] = cereal['type'].astype('category')"
   ]
  },
  {
   "cell_type": "code",
   "execution_count": 49,
   "metadata": {},
   "outputs": [
    {
     "name": "stdout",
     "output_type": "stream",
     "text": [
      "<class 'pandas.core.frame.DataFrame'>\n",
      "RangeIndex: 77 entries, 0 to 76\n",
      "Data columns (total 6 columns):\n",
      " #   Column    Non-Null Count  Dtype   \n",
      "---  ------    --------------  -----   \n",
      " 0   mfr       77 non-null     category\n",
      " 1   type      77 non-null     category\n",
      " 2   sugars    77 non-null     int64   \n",
      " 3   vitamins  77 non-null     int64   \n",
      " 4   cups      77 non-null     float64 \n",
      " 5   rating    77 non-null     float64 \n",
      "dtypes: category(2), float64(2), int64(2)\n",
      "memory usage: 3.1 KB\n"
     ]
    }
   ],
   "source": [
    "cereal.info()"
   ]
  },
  {
   "cell_type": "code",
   "execution_count": 50,
   "metadata": {},
   "outputs": [
    {
     "data": {
      "text/plain": [
       "[C, H]\n",
       "Categories (2, object): [C, H]"
      ]
     },
     "execution_count": 50,
     "metadata": {},
     "output_type": "execute_result"
    }
   ],
   "source": [
    "cereal['type'].unique()"
   ]
  },
  {
   "cell_type": "code",
   "execution_count": 51,
   "metadata": {},
   "outputs": [
    {
     "data": {
      "text/plain": [
       "array([ 25,   0, 100])"
      ]
     },
     "execution_count": 51,
     "metadata": {},
     "output_type": "execute_result"
    }
   ],
   "source": [
    "cereal['vitamins'].unique()"
   ]
  },
  {
   "cell_type": "code",
   "execution_count": 52,
   "metadata": {},
   "outputs": [
    {
     "data": {
      "text/plain": [
       "K    23\n",
       "G    22\n",
       "P     9\n",
       "R     8\n",
       "Q     8\n",
       "N     6\n",
       "A     1\n",
       "Name: mfr, dtype: int64"
      ]
     },
     "execution_count": 52,
     "metadata": {},
     "output_type": "execute_result"
    }
   ],
   "source": [
    "cereal['mfr'].value_counts()"
   ]
  },
  {
   "cell_type": "code",
   "execution_count": 53,
   "metadata": {},
   "outputs": [
    {
     "data": {
      "text/html": [
       "<div>\n",
       "<style scoped>\n",
       "    .dataframe tbody tr th:only-of-type {\n",
       "        vertical-align: middle;\n",
       "    }\n",
       "\n",
       "    .dataframe tbody tr th {\n",
       "        vertical-align: top;\n",
       "    }\n",
       "\n",
       "    .dataframe thead th {\n",
       "        text-align: right;\n",
       "    }\n",
       "</style>\n",
       "<table border=\"1\" class=\"dataframe\">\n",
       "  <thead>\n",
       "    <tr style=\"text-align: right;\">\n",
       "      <th></th>\n",
       "      <th>manfacturer</th>\n",
       "      <th>type</th>\n",
       "      <th>sugars</th>\n",
       "      <th>vitamins</th>\n",
       "      <th>cups</th>\n",
       "      <th>rating</th>\n",
       "    </tr>\n",
       "  </thead>\n",
       "  <tbody>\n",
       "    <tr>\n",
       "      <th>0</th>\n",
       "      <td>Nabisco</td>\n",
       "      <td>C</td>\n",
       "      <td>6</td>\n",
       "      <td>25</td>\n",
       "      <td>0.33</td>\n",
       "      <td>68.402973</td>\n",
       "    </tr>\n",
       "    <tr>\n",
       "      <th>1</th>\n",
       "      <td>Nabisco</td>\n",
       "      <td>H</td>\n",
       "      <td>0</td>\n",
       "      <td>0</td>\n",
       "      <td>1.00</td>\n",
       "      <td>64.533816</td>\n",
       "    </tr>\n",
       "    <tr>\n",
       "      <th>2</th>\n",
       "      <td>Nabisco</td>\n",
       "      <td>C</td>\n",
       "      <td>0</td>\n",
       "      <td>0</td>\n",
       "      <td>1.00</td>\n",
       "      <td>68.235885</td>\n",
       "    </tr>\n",
       "    <tr>\n",
       "      <th>3</th>\n",
       "      <td>Nabisco</td>\n",
       "      <td>C</td>\n",
       "      <td>0</td>\n",
       "      <td>0</td>\n",
       "      <td>0.67</td>\n",
       "      <td>74.472949</td>\n",
       "    </tr>\n",
       "    <tr>\n",
       "      <th>4</th>\n",
       "      <td>Nabisco</td>\n",
       "      <td>C</td>\n",
       "      <td>0</td>\n",
       "      <td>0</td>\n",
       "      <td>0.67</td>\n",
       "      <td>72.801787</td>\n",
       "    </tr>\n",
       "    <tr>\n",
       "      <th>...</th>\n",
       "      <td>...</td>\n",
       "      <td>...</td>\n",
       "      <td>...</td>\n",
       "      <td>...</td>\n",
       "      <td>...</td>\n",
       "      <td>...</td>\n",
       "    </tr>\n",
       "    <tr>\n",
       "      <th>72</th>\n",
       "      <td>Post</td>\n",
       "      <td>C</td>\n",
       "      <td>3</td>\n",
       "      <td>25</td>\n",
       "      <td>0.25</td>\n",
       "      <td>53.371007</td>\n",
       "    </tr>\n",
       "    <tr>\n",
       "      <th>73</th>\n",
       "      <td>Post</td>\n",
       "      <td>C</td>\n",
       "      <td>4</td>\n",
       "      <td>25</td>\n",
       "      <td>0.33</td>\n",
       "      <td>45.811716</td>\n",
       "    </tr>\n",
       "    <tr>\n",
       "      <th>74</th>\n",
       "      <td>Post</td>\n",
       "      <td>C</td>\n",
       "      <td>11</td>\n",
       "      <td>25</td>\n",
       "      <td>1.33</td>\n",
       "      <td>28.742414</td>\n",
       "    </tr>\n",
       "    <tr>\n",
       "      <th>75</th>\n",
       "      <td>Post</td>\n",
       "      <td>C</td>\n",
       "      <td>14</td>\n",
       "      <td>25</td>\n",
       "      <td>0.67</td>\n",
       "      <td>37.840594</td>\n",
       "    </tr>\n",
       "    <tr>\n",
       "      <th>76</th>\n",
       "      <td>American Home Food Products</td>\n",
       "      <td>H</td>\n",
       "      <td>3</td>\n",
       "      <td>25</td>\n",
       "      <td>1.00</td>\n",
       "      <td>54.850917</td>\n",
       "    </tr>\n",
       "  </tbody>\n",
       "</table>\n",
       "<p>77 rows × 6 columns</p>\n",
       "</div>"
      ],
      "text/plain": [
       "                    manfacturer type  sugars  vitamins  cups     rating\n",
       "0                       Nabisco    C       6        25  0.33  68.402973\n",
       "1                       Nabisco    H       0         0  1.00  64.533816\n",
       "2                       Nabisco    C       0         0  1.00  68.235885\n",
       "3                       Nabisco    C       0         0  0.67  74.472949\n",
       "4                       Nabisco    C       0         0  0.67  72.801787\n",
       "..                          ...  ...     ...       ...   ...        ...\n",
       "72                         Post    C       3        25  0.25  53.371007\n",
       "73                         Post    C       4        25  0.33  45.811716\n",
       "74                         Post    C      11        25  1.33  28.742414\n",
       "75                         Post    C      14        25  0.67  37.840594\n",
       "76  American Home Food Products    H       3        25  1.00  54.850917\n",
       "\n",
       "[77 rows x 6 columns]"
      ]
     },
     "execution_count": 53,
     "metadata": {},
     "output_type": "execute_result"
    }
   ],
   "source": [
    "#x = {'A': 'American Home Food Products', \n",
    "        #'G': 'General Mills', 'K': 'Kelloggs',\n",
    "        ##Q': 'Quaker Oats', 'R': 'Ralston Purina'}\n",
    "name = pd.DataFrame({'mfr': ['A', 'G', 'K', 'N', 'P', 'Q', 'R'],\n",
    "                    'manfacturer': ['American Home Food Products', 'General Mills', \n",
    "                             'Kelloggs','Nabisco', 'Post', 'Quaker Oats', 'Ralston Purina']})\n",
    "\n",
    "df = pd.merge(cereal, name, on = 'mfr')\n",
    "df = df.drop('mfr', axis =1)\n",
    "df = df[['manfacturer','type', 'sugars', 'vitamins','cups','rating']]\n",
    "df['manfacturer'] = df['manfacturer'].astype('category')\n",
    "df\n",
    "        \n",
    "        "
   ]
  },
  {
   "cell_type": "markdown",
   "metadata": {},
   "source": [
    "<div class =\"alert alert-block alert-warning\">\n",
    "\n",
    "> **(c) To answer the questions you have listed above, describe 5 visualizations that can help you explore this data. (Example: line graph between variable x and y.).**\n",
    "\n",
    "> **(d) Plot at three DIFFERENT graphs you have mentioned above. Summarise some findings from each plot. (For example, line chart of x and y and line chart of a and b doesn’t count as different; line chart and box plot does. )**"
   ]
  },
  {
   "cell_type": "markdown",
   "metadata": {},
   "source": [
    "<div class =\"alert alert-block alert-warning\">\n",
    "\n",
    ">> **1. Which manfactuers produces the top five highest rating cereals?**\n",
    "    - Based on the histogram and the table below, Kelloggs produced the highest rating cereal of 93.70 and Nabisco produced the other 4 high rating cereals of 74.47, 72.80, 72.80, 68.40, and 68.24. Even though Kelloggs produced the highest rating cereal, however, Nabisco's productions composed majority of the top five highest rating cereals. "
   ]
  },
  {
   "cell_type": "code",
   "execution_count": 54,
   "metadata": {},
   "outputs": [
    {
     "data": {
      "text/plain": [
       "Int64Index([15, 3, 4, 0, 2], dtype='int64')"
      ]
     },
     "execution_count": 54,
     "metadata": {},
     "output_type": "execute_result"
    }
   ],
   "source": [
    "x = df['rating'].sort_values(ascending = False).head(5).index\n",
    "x"
   ]
  },
  {
   "cell_type": "code",
   "execution_count": 55,
   "metadata": {},
   "outputs": [
    {
     "data": {
      "text/html": [
       "<div>\n",
       "<style scoped>\n",
       "    .dataframe tbody tr th:only-of-type {\n",
       "        vertical-align: middle;\n",
       "    }\n",
       "\n",
       "    .dataframe tbody tr th {\n",
       "        vertical-align: top;\n",
       "    }\n",
       "\n",
       "    .dataframe thead th {\n",
       "        text-align: right;\n",
       "    }\n",
       "</style>\n",
       "<table border=\"1\" class=\"dataframe\">\n",
       "  <thead>\n",
       "    <tr style=\"text-align: right;\">\n",
       "      <th></th>\n",
       "      <th>manfacturer</th>\n",
       "      <th>type</th>\n",
       "      <th>sugars</th>\n",
       "      <th>vitamins</th>\n",
       "      <th>cups</th>\n",
       "      <th>rating</th>\n",
       "    </tr>\n",
       "  </thead>\n",
       "  <tbody>\n",
       "    <tr>\n",
       "      <th>15</th>\n",
       "      <td>Kelloggs</td>\n",
       "      <td>C</td>\n",
       "      <td>0</td>\n",
       "      <td>25</td>\n",
       "      <td>0.50</td>\n",
       "      <td>93.704912</td>\n",
       "    </tr>\n",
       "    <tr>\n",
       "      <th>3</th>\n",
       "      <td>Nabisco</td>\n",
       "      <td>C</td>\n",
       "      <td>0</td>\n",
       "      <td>0</td>\n",
       "      <td>0.67</td>\n",
       "      <td>74.472949</td>\n",
       "    </tr>\n",
       "    <tr>\n",
       "      <th>4</th>\n",
       "      <td>Nabisco</td>\n",
       "      <td>C</td>\n",
       "      <td>0</td>\n",
       "      <td>0</td>\n",
       "      <td>0.67</td>\n",
       "      <td>72.801787</td>\n",
       "    </tr>\n",
       "    <tr>\n",
       "      <th>0</th>\n",
       "      <td>Nabisco</td>\n",
       "      <td>C</td>\n",
       "      <td>6</td>\n",
       "      <td>25</td>\n",
       "      <td>0.33</td>\n",
       "      <td>68.402973</td>\n",
       "    </tr>\n",
       "    <tr>\n",
       "      <th>2</th>\n",
       "      <td>Nabisco</td>\n",
       "      <td>C</td>\n",
       "      <td>0</td>\n",
       "      <td>0</td>\n",
       "      <td>1.00</td>\n",
       "      <td>68.235885</td>\n",
       "    </tr>\n",
       "  </tbody>\n",
       "</table>\n",
       "</div>"
      ],
      "text/plain": [
       "   manfacturer type  sugars  vitamins  cups     rating\n",
       "15    Kelloggs    C       0        25  0.50  93.704912\n",
       "3      Nabisco    C       0         0  0.67  74.472949\n",
       "4      Nabisco    C       0         0  0.67  72.801787\n",
       "0      Nabisco    C       6        25  0.33  68.402973\n",
       "2      Nabisco    C       0         0  1.00  68.235885"
      ]
     },
     "execution_count": 55,
     "metadata": {},
     "output_type": "execute_result"
    }
   ],
   "source": [
    "top5 = df.iloc[x]\n",
    "top5"
   ]
  },
  {
   "cell_type": "code",
   "execution_count": 56,
   "metadata": {},
   "outputs": [
    {
     "data": {
      "image/png": "[encoded data removed]",
      "text/plain": [
       "<Figure size 432x432 with 1 Axes>"
      ]
     },
     "metadata": {
      "image/png": {
       "height": 390,
       "width": 467
      },
      "needs_background": "light"
     },
     "output_type": "display_data"
    }
   ],
   "source": [
    "fig, ax = plt.subplots(figsize = (6,6))\n",
    "\n",
    "ax.hist(top5.manfacturer)\n",
    "ax.set_xlabel('Manfacturer', fontsize = 12)\n",
    "ax.set_ylabel('Counts', fontsize = 12)\n",
    "ax.set_title('Which manfactuers produces the top five highest rating cereals?', fontsize = 14)\n",
    "\n",
    "plt.show()"
   ]
  },
  {
   "cell_type": "markdown",
   "metadata": {},
   "source": [
    "<div class =\"alert alert-block alert-warning\">\n",
    "\n",
    ">> **2. Which manufacturer produces healthier cereal that is high in vitamins and low in sugar?**\n",
    "    - Based on the graph below and the table, American Home Food Products produces the healthiest cereal in average compared to other manfactureres. It has the highest ratio of vitamins to sugars of around 8.33. While Kellogg whom has the highest rating claimed the third place with a ratio of around 6.79."
   ]
  },
  {
   "cell_type": "code",
   "execution_count": 57,
   "metadata": {},
   "outputs": [
    {
     "data": {
      "text/plain": [
       "array([ 4.16666667,         nan,  5.        ,  0.        ,  2.08333333,\n",
       "        2.27272727,         inf,  1.78571429, 12.5       ,  3.57142857,\n",
       "        8.33333333,  1.92307692, 16.66666667, 11.11111111,  2.77777778,\n",
       "       33.33333333,  1.66666667,  3.125     ,  2.5       , 25.        ,\n",
       "        7.14285714,  6.25      ])"
      ]
     },
     "execution_count": 57,
     "metadata": {},
     "output_type": "execute_result"
    }
   ],
   "source": [
    "df1 = df.copy()\n",
    "df1['vitamins2sugars'] = df1['vitamins']/df1['sugars']\n",
    "df1['vitamins2sugars'].unique()\n",
    "# since nan means we have 0 in vitamin and 0 in grams of sugar, and inf means 0 in sugar\n",
    "# I will replace nan and inf with zero"
   ]
  },
  {
   "cell_type": "code",
   "execution_count": 58,
   "metadata": {},
   "outputs": [
    {
     "data": {
      "text/html": [
       "<div>\n",
       "<style scoped>\n",
       "    .dataframe tbody tr th:only-of-type {\n",
       "        vertical-align: middle;\n",
       "    }\n",
       "\n",
       "    .dataframe tbody tr th {\n",
       "        vertical-align: top;\n",
       "    }\n",
       "\n",
       "    .dataframe thead th {\n",
       "        text-align: right;\n",
       "    }\n",
       "</style>\n",
       "<table border=\"1\" class=\"dataframe\">\n",
       "  <thead>\n",
       "    <tr style=\"text-align: right;\">\n",
       "      <th></th>\n",
       "      <th>manfacturer</th>\n",
       "      <th>type</th>\n",
       "      <th>sugars</th>\n",
       "      <th>vitamins</th>\n",
       "      <th>cups</th>\n",
       "      <th>rating</th>\n",
       "      <th>vitamins2sugars</th>\n",
       "    </tr>\n",
       "  </thead>\n",
       "  <tbody>\n",
       "    <tr>\n",
       "      <th>1</th>\n",
       "      <td>Nabisco</td>\n",
       "      <td>H</td>\n",
       "      <td>0</td>\n",
       "      <td>0</td>\n",
       "      <td>1.00</td>\n",
       "      <td>64.533816</td>\n",
       "      <td>NaN</td>\n",
       "    </tr>\n",
       "    <tr>\n",
       "      <th>2</th>\n",
       "      <td>Nabisco</td>\n",
       "      <td>C</td>\n",
       "      <td>0</td>\n",
       "      <td>0</td>\n",
       "      <td>1.00</td>\n",
       "      <td>68.235885</td>\n",
       "      <td>NaN</td>\n",
       "    </tr>\n",
       "    <tr>\n",
       "      <th>3</th>\n",
       "      <td>Nabisco</td>\n",
       "      <td>C</td>\n",
       "      <td>0</td>\n",
       "      <td>0</td>\n",
       "      <td>0.67</td>\n",
       "      <td>74.472949</td>\n",
       "      <td>NaN</td>\n",
       "    </tr>\n",
       "    <tr>\n",
       "      <th>4</th>\n",
       "      <td>Nabisco</td>\n",
       "      <td>C</td>\n",
       "      <td>0</td>\n",
       "      <td>0</td>\n",
       "      <td>0.67</td>\n",
       "      <td>72.801787</td>\n",
       "      <td>NaN</td>\n",
       "    </tr>\n",
       "    <tr>\n",
       "      <th>10</th>\n",
       "      <td>Quaker Oats</td>\n",
       "      <td>C</td>\n",
       "      <td>0</td>\n",
       "      <td>0</td>\n",
       "      <td>1.00</td>\n",
       "      <td>60.756112</td>\n",
       "      <td>NaN</td>\n",
       "    </tr>\n",
       "    <tr>\n",
       "      <th>11</th>\n",
       "      <td>Quaker Oats</td>\n",
       "      <td>C</td>\n",
       "      <td>0</td>\n",
       "      <td>0</td>\n",
       "      <td>1.00</td>\n",
       "      <td>63.005645</td>\n",
       "      <td>NaN</td>\n",
       "    </tr>\n",
       "    <tr>\n",
       "      <th>13</th>\n",
       "      <td>Quaker Oats</td>\n",
       "      <td>H</td>\n",
       "      <td>0</td>\n",
       "      <td>0</td>\n",
       "      <td>0.67</td>\n",
       "      <td>50.828392</td>\n",
       "      <td>NaN</td>\n",
       "    </tr>\n",
       "  </tbody>\n",
       "</table>\n",
       "</div>"
      ],
      "text/plain": [
       "    manfacturer type  sugars  vitamins  cups     rating  vitamins2sugars\n",
       "1       Nabisco    H       0         0  1.00  64.533816              NaN\n",
       "2       Nabisco    C       0         0  1.00  68.235885              NaN\n",
       "3       Nabisco    C       0         0  0.67  74.472949              NaN\n",
       "4       Nabisco    C       0         0  0.67  72.801787              NaN\n",
       "10  Quaker Oats    C       0         0  1.00  60.756112              NaN\n",
       "11  Quaker Oats    C       0         0  1.00  63.005645              NaN\n",
       "13  Quaker Oats    H       0         0  0.67  50.828392              NaN"
      ]
     },
     "execution_count": 58,
     "metadata": {},
     "output_type": "execute_result"
    }
   ],
   "source": [
    "df1[df1['vitamins2sugars'].isnull()]"
   ]
  },
  {
   "cell_type": "code",
   "execution_count": 59,
   "metadata": {},
   "outputs": [
    {
     "data": {
      "text/plain": [
       "15          inf\n",
       "60    33.333333\n",
       "31    33.333333\n",
       "62    33.333333\n",
       "47    25.000000\n",
       "        ...    \n",
       "3           NaN\n",
       "4           NaN\n",
       "10          NaN\n",
       "11          NaN\n",
       "13          NaN\n",
       "Name: vitamins2sugars, Length: 77, dtype: float64"
      ]
     },
     "execution_count": 59,
     "metadata": {},
     "output_type": "execute_result"
    }
   ],
   "source": [
    "df1['vitamins2sugars'].sort_values(ascending = False)"
   ]
  },
  {
   "cell_type": "code",
   "execution_count": 60,
   "metadata": {},
   "outputs": [
    {
     "data": {
      "text/plain": [
       "manfacturer        Kelloggs\n",
       "type                      C\n",
       "sugars                    0\n",
       "vitamins                 25\n",
       "cups                    0.5\n",
       "rating              93.7049\n",
       "vitamins2sugars         inf\n",
       "Name: 15, dtype: object"
      ]
     },
     "execution_count": 60,
     "metadata": {},
     "output_type": "execute_result"
    }
   ],
   "source": [
    "df1.iloc[15]"
   ]
  },
  {
   "cell_type": "code",
   "execution_count": 61,
   "metadata": {},
   "outputs": [],
   "source": [
    "df1 = df1.drop(index =15)\n",
    "df1 = df1.dropna()\n"
   ]
  },
  {
   "cell_type": "code",
   "execution_count": 62,
   "metadata": {},
   "outputs": [
    {
     "data": {
      "text/html": [
       "<div>\n",
       "<style scoped>\n",
       "    .dataframe tbody tr th:only-of-type {\n",
       "        vertical-align: middle;\n",
       "    }\n",
       "\n",
       "    .dataframe tbody tr th {\n",
       "        vertical-align: top;\n",
       "    }\n",
       "\n",
       "    .dataframe thead th {\n",
       "        text-align: right;\n",
       "    }\n",
       "</style>\n",
       "<table border=\"1\" class=\"dataframe\">\n",
       "  <thead>\n",
       "    <tr style=\"text-align: right;\">\n",
       "      <th></th>\n",
       "      <th>manfacturer</th>\n",
       "      <th>type</th>\n",
       "      <th>sugars</th>\n",
       "      <th>vitamins</th>\n",
       "      <th>cups</th>\n",
       "      <th>rating</th>\n",
       "      <th>vitamins2sugars</th>\n",
       "    </tr>\n",
       "  </thead>\n",
       "  <tbody>\n",
       "    <tr>\n",
       "      <th>0</th>\n",
       "      <td>Nabisco</td>\n",
       "      <td>C</td>\n",
       "      <td>6</td>\n",
       "      <td>25</td>\n",
       "      <td>0.33</td>\n",
       "      <td>68.402973</td>\n",
       "      <td>4.166667</td>\n",
       "    </tr>\n",
       "    <tr>\n",
       "      <th>5</th>\n",
       "      <td>Nabisco</td>\n",
       "      <td>C</td>\n",
       "      <td>5</td>\n",
       "      <td>25</td>\n",
       "      <td>1.00</td>\n",
       "      <td>59.363993</td>\n",
       "      <td>5.000000</td>\n",
       "    </tr>\n",
       "    <tr>\n",
       "      <th>6</th>\n",
       "      <td>Quaker Oats</td>\n",
       "      <td>C</td>\n",
       "      <td>8</td>\n",
       "      <td>0</td>\n",
       "      <td>1.00</td>\n",
       "      <td>33.983679</td>\n",
       "      <td>0.000000</td>\n",
       "    </tr>\n",
       "    <tr>\n",
       "      <th>7</th>\n",
       "      <td>Quaker Oats</td>\n",
       "      <td>C</td>\n",
       "      <td>12</td>\n",
       "      <td>25</td>\n",
       "      <td>0.75</td>\n",
       "      <td>18.042851</td>\n",
       "      <td>2.083333</td>\n",
       "    </tr>\n",
       "    <tr>\n",
       "      <th>8</th>\n",
       "      <td>Quaker Oats</td>\n",
       "      <td>C</td>\n",
       "      <td>11</td>\n",
       "      <td>25</td>\n",
       "      <td>1.00</td>\n",
       "      <td>21.871292</td>\n",
       "      <td>2.272727</td>\n",
       "    </tr>\n",
       "    <tr>\n",
       "      <th>...</th>\n",
       "      <td>...</td>\n",
       "      <td>...</td>\n",
       "      <td>...</td>\n",
       "      <td>...</td>\n",
       "      <td>...</td>\n",
       "      <td>...</td>\n",
       "      <td>...</td>\n",
       "    </tr>\n",
       "    <tr>\n",
       "      <th>72</th>\n",
       "      <td>Post</td>\n",
       "      <td>C</td>\n",
       "      <td>3</td>\n",
       "      <td>25</td>\n",
       "      <td>0.25</td>\n",
       "      <td>53.371007</td>\n",
       "      <td>8.333333</td>\n",
       "    </tr>\n",
       "    <tr>\n",
       "      <th>73</th>\n",
       "      <td>Post</td>\n",
       "      <td>C</td>\n",
       "      <td>4</td>\n",
       "      <td>25</td>\n",
       "      <td>0.33</td>\n",
       "      <td>45.811716</td>\n",
       "      <td>6.250000</td>\n",
       "    </tr>\n",
       "    <tr>\n",
       "      <th>74</th>\n",
       "      <td>Post</td>\n",
       "      <td>C</td>\n",
       "      <td>11</td>\n",
       "      <td>25</td>\n",
       "      <td>1.33</td>\n",
       "      <td>28.742414</td>\n",
       "      <td>2.272727</td>\n",
       "    </tr>\n",
       "    <tr>\n",
       "      <th>75</th>\n",
       "      <td>Post</td>\n",
       "      <td>C</td>\n",
       "      <td>14</td>\n",
       "      <td>25</td>\n",
       "      <td>0.67</td>\n",
       "      <td>37.840594</td>\n",
       "      <td>1.785714</td>\n",
       "    </tr>\n",
       "    <tr>\n",
       "      <th>76</th>\n",
       "      <td>American Home Food Products</td>\n",
       "      <td>H</td>\n",
       "      <td>3</td>\n",
       "      <td>25</td>\n",
       "      <td>1.00</td>\n",
       "      <td>54.850917</td>\n",
       "      <td>8.333333</td>\n",
       "    </tr>\n",
       "  </tbody>\n",
       "</table>\n",
       "<p>69 rows × 7 columns</p>\n",
       "</div>"
      ],
      "text/plain": [
       "                    manfacturer type  sugars  vitamins  cups     rating  \\\n",
       "0                       Nabisco    C       6        25  0.33  68.402973   \n",
       "5                       Nabisco    C       5        25  1.00  59.363993   \n",
       "6                   Quaker Oats    C       8         0  1.00  33.983679   \n",
       "7                   Quaker Oats    C      12        25  0.75  18.042851   \n",
       "8                   Quaker Oats    C      11        25  1.00  21.871292   \n",
       "..                          ...  ...     ...       ...   ...        ...   \n",
       "72                         Post    C       3        25  0.25  53.371007   \n",
       "73                         Post    C       4        25  0.33  45.811716   \n",
       "74                         Post    C      11        25  1.33  28.742414   \n",
       "75                         Post    C      14        25  0.67  37.840594   \n",
       "76  American Home Food Products    H       3        25  1.00  54.850917   \n",
       "\n",
       "    vitamins2sugars  \n",
       "0          4.166667  \n",
       "5          5.000000  \n",
       "6          0.000000  \n",
       "7          2.083333  \n",
       "8          2.272727  \n",
       "..              ...  \n",
       "72         8.333333  \n",
       "73         6.250000  \n",
       "74         2.272727  \n",
       "75         1.785714  \n",
       "76         8.333333  \n",
       "\n",
       "[69 rows x 7 columns]"
      ]
     },
     "execution_count": 62,
     "metadata": {},
     "output_type": "execute_result"
    }
   ],
   "source": [
    "df1"
   ]
  },
  {
   "cell_type": "code",
   "execution_count": 63,
   "metadata": {},
   "outputs": [
    {
     "data": {
      "text/html": [
       "<div>\n",
       "<style scoped>\n",
       "    .dataframe tbody tr th:only-of-type {\n",
       "        vertical-align: middle;\n",
       "    }\n",
       "\n",
       "    .dataframe tbody tr th {\n",
       "        vertical-align: top;\n",
       "    }\n",
       "\n",
       "    .dataframe thead th {\n",
       "        text-align: right;\n",
       "    }\n",
       "</style>\n",
       "<table border=\"1\" class=\"dataframe\">\n",
       "  <thead>\n",
       "    <tr style=\"text-align: right;\">\n",
       "      <th></th>\n",
       "      <th>sugars</th>\n",
       "      <th>vitamins</th>\n",
       "      <th>cups</th>\n",
       "      <th>rating</th>\n",
       "      <th>vitamins2sugars</th>\n",
       "    </tr>\n",
       "    <tr>\n",
       "      <th>manfacturer</th>\n",
       "      <th></th>\n",
       "      <th></th>\n",
       "      <th></th>\n",
       "      <th></th>\n",
       "      <th></th>\n",
       "    </tr>\n",
       "  </thead>\n",
       "  <tbody>\n",
       "    <tr>\n",
       "      <th>American Home Food Products</th>\n",
       "      <td>3.000000</td>\n",
       "      <td>25.000000</td>\n",
       "      <td>1.000000</td>\n",
       "      <td>54.850917</td>\n",
       "      <td>8.333333</td>\n",
       "    </tr>\n",
       "    <tr>\n",
       "      <th>General Mills</th>\n",
       "      <td>7.954545</td>\n",
       "      <td>35.227273</td>\n",
       "      <td>0.875000</td>\n",
       "      <td>34.485852</td>\n",
       "      <td>7.476863</td>\n",
       "    </tr>\n",
       "    <tr>\n",
       "      <th>Kelloggs</th>\n",
       "      <td>7.909091</td>\n",
       "      <td>35.227273</td>\n",
       "      <td>0.809545</td>\n",
       "      <td>41.780896</td>\n",
       "      <td>6.799596</td>\n",
       "    </tr>\n",
       "    <tr>\n",
       "      <th>Nabisco</th>\n",
       "      <td>5.500000</td>\n",
       "      <td>25.000000</td>\n",
       "      <td>0.665000</td>\n",
       "      <td>63.883483</td>\n",
       "      <td>4.583333</td>\n",
       "    </tr>\n",
       "    <tr>\n",
       "      <th>Post</th>\n",
       "      <td>8.777778</td>\n",
       "      <td>25.000000</td>\n",
       "      <td>0.714444</td>\n",
       "      <td>41.705744</td>\n",
       "      <td>3.876864</td>\n",
       "    </tr>\n",
       "    <tr>\n",
       "      <th>Quaker Oats</th>\n",
       "      <td>8.600000</td>\n",
       "      <td>20.000000</td>\n",
       "      <td>0.784000</td>\n",
       "      <td>33.747554</td>\n",
       "      <td>2.537879</td>\n",
       "    </tr>\n",
       "    <tr>\n",
       "      <th>Ralston Purina</th>\n",
       "      <td>6.125000</td>\n",
       "      <td>25.000000</td>\n",
       "      <td>0.871250</td>\n",
       "      <td>41.542997</td>\n",
       "      <td>5.750473</td>\n",
       "    </tr>\n",
       "  </tbody>\n",
       "</table>\n",
       "</div>"
      ],
      "text/plain": [
       "                               sugars   vitamins      cups     rating  \\\n",
       "manfacturer                                                             \n",
       "American Home Food Products  3.000000  25.000000  1.000000  54.850917   \n",
       "General Mills                7.954545  35.227273  0.875000  34.485852   \n",
       "Kelloggs                     7.909091  35.227273  0.809545  41.780896   \n",
       "Nabisco                      5.500000  25.000000  0.665000  63.883483   \n",
       "Post                         8.777778  25.000000  0.714444  41.705744   \n",
       "Quaker Oats                  8.600000  20.000000  0.784000  33.747554   \n",
       "Ralston Purina               6.125000  25.000000  0.871250  41.542997   \n",
       "\n",
       "                             vitamins2sugars  \n",
       "manfacturer                                   \n",
       "American Home Food Products         8.333333  \n",
       "General Mills                       7.476863  \n",
       "Kelloggs                            6.799596  \n",
       "Nabisco                             4.583333  \n",
       "Post                                3.876864  \n",
       "Quaker Oats                         2.537879  \n",
       "Ralston Purina                      5.750473  "
      ]
     },
     "execution_count": 63,
     "metadata": {},
     "output_type": "execute_result"
    }
   ],
   "source": [
    "barh = df1.groupby('manfacturer').mean()\n",
    "barh"
   ]
  },
  {
   "cell_type": "code",
   "execution_count": 64,
   "metadata": {},
   "outputs": [
    {
     "data": {
      "text/plain": [
       "CategoricalIndex(['American Home Food Products', 'General Mills', 'Kelloggs',\n",
       "                  'Nabisco', 'Post', 'Quaker Oats', 'Ralston Purina'],\n",
       "                 categories=['American Home Food Products', 'General Mills', 'Kelloggs', 'Nabisco', 'Post', 'Quaker Oats', 'Ralston Purina'], ordered=False, name='manfacturer', dtype='category')"
      ]
     },
     "execution_count": 64,
     "metadata": {},
     "output_type": "execute_result"
    }
   ],
   "source": [
    "barh.index"
   ]
  },
  {
   "cell_type": "code",
   "execution_count": 65,
   "metadata": {},
   "outputs": [
    {
     "data": {
      "image/png": "[encoded data removed]",
      "text/plain": [
       "<Figure size 720x360 with 1 Axes>"
      ]
     },
     "metadata": {
      "image/png": {
       "height": 336,
       "width": 750
      },
      "needs_background": "light"
     },
     "output_type": "display_data"
    }
   ],
   "source": [
    "fig, ax = plt.subplots(figsize =(10,5))\n",
    "\n",
    "x = barh.index\n",
    "y = barh.vitamins2sugars\n",
    "\n",
    "ax.barh(x, y, color= 'darkblue')\n",
    "ax.set_ylabel('Manfacturer', fontsize = 12)\n",
    "ax.set_xlabel('Vitamins to Sugars', fontsize = 12)\n",
    "ax.set_title('Which manufacturer products healthier cereal?', fontsize = 15)\n",
    "\n",
    "plt.show()"
   ]
  },
  {
   "cell_type": "markdown",
   "metadata": {},
   "source": [
    "<div class =\"alert alert-block alert-warning\">\n",
    "\n",
    ">> **3. Which type of cereal has a higher rating in average?**\n",
    "    - Hot cereals have a higher rating of around 56.74 in average compared to cold cereals."
   ]
  },
  {
   "cell_type": "code",
   "execution_count": 66,
   "metadata": {},
   "outputs": [
    {
     "data": {
      "text/html": [
       "<div>\n",
       "<style scoped>\n",
       "    .dataframe tbody tr th:only-of-type {\n",
       "        vertical-align: middle;\n",
       "    }\n",
       "\n",
       "    .dataframe tbody tr th {\n",
       "        vertical-align: top;\n",
       "    }\n",
       "\n",
       "    .dataframe thead th {\n",
       "        text-align: right;\n",
       "    }\n",
       "</style>\n",
       "<table border=\"1\" class=\"dataframe\">\n",
       "  <thead>\n",
       "    <tr style=\"text-align: right;\">\n",
       "      <th></th>\n",
       "      <th>sugars</th>\n",
       "      <th>vitamins</th>\n",
       "      <th>cups</th>\n",
       "      <th>rating</th>\n",
       "    </tr>\n",
       "    <tr>\n",
       "      <th>type</th>\n",
       "      <th></th>\n",
       "      <th></th>\n",
       "      <th></th>\n",
       "      <th></th>\n",
       "    </tr>\n",
       "  </thead>\n",
       "  <tbody>\n",
       "    <tr>\n",
       "      <th>C</th>\n",
       "      <td>7.175676</td>\n",
       "      <td>29.054054</td>\n",
       "      <td>0.818243</td>\n",
       "      <td>42.095218</td>\n",
       "    </tr>\n",
       "    <tr>\n",
       "      <th>H</th>\n",
       "      <td>1.000000</td>\n",
       "      <td>8.333333</td>\n",
       "      <td>0.890000</td>\n",
       "      <td>56.737708</td>\n",
       "    </tr>\n",
       "  </tbody>\n",
       "</table>\n",
       "</div>"
      ],
      "text/plain": [
       "        sugars   vitamins      cups     rating\n",
       "type                                          \n",
       "C     7.175676  29.054054  0.818243  42.095218\n",
       "H     1.000000   8.333333  0.890000  56.737708"
      ]
     },
     "execution_count": 66,
     "metadata": {},
     "output_type": "execute_result"
    }
   ],
   "source": [
    "barh2 = df.groupby('type').mean()\n",
    "barh2"
   ]
  },
  {
   "cell_type": "code",
   "execution_count": 67,
   "metadata": {},
   "outputs": [
    {
     "data": {
      "image/png": "[encoded data removed]",
      "text/plain": [
       "<Figure size 432x360 with 1 Axes>"
      ]
     },
     "metadata": {
      "image/png": {
       "height": 335,
       "width": 409
      },
      "needs_background": "light"
     },
     "output_type": "display_data"
    }
   ],
   "source": [
    "fig, ax = plt.subplots(figsize = (6,5))\n",
    "\n",
    "x = barh2.index\n",
    "y = barh2.rating\n",
    "\n",
    "ax.barh(x, y, color = 'lightblue')\n",
    "ax.set_xlabel('Rating', fontsize = 12)\n",
    "ax.set_ylabel('Type of Cereal', fontsize = 12)\n",
    "ax.set_title('which type of cereal has a higher rating in average?', fontsize = 14)\n",
    "ax.set_yticklabels(['Cold', 'Hot'])\n",
    "\n",
    "plt.show()\n"
   ]
  },
  {
   "cell_type": "markdown",
   "metadata": {},
   "source": [
    "<div class =\"alert alert-block alert-warning\">\n",
    "\n",
    ">> **4. What is the average cups in a serving for a typical cereal?**\n",
    "    - The typical cereal have an average of around 0.82 cups of serving.\n"
   ]
  },
  {
   "cell_type": "code",
   "execution_count": 68,
   "metadata": {},
   "outputs": [
    {
     "data": {
      "text/plain": [
       "0.8210389610389613"
      ]
     },
     "execution_count": 68,
     "metadata": {},
     "output_type": "execute_result"
    }
   ],
   "source": [
    "df['cups'].mean()"
   ]
  },
  {
   "cell_type": "markdown",
   "metadata": {},
   "source": [
    ">> 5. Would more cups in a serving be more popular?\n",
    "    - From the scatterplot below, cereals that have more cups in a serving have lower ratings. However, the amount of cups in a serving and the rating of the cereal has a weak neagative correlation of around -0.20. Thus, the amount of cups in a serving have little effect on the rating of the cereal. "
   ]
  },
  {
   "cell_type": "code",
   "execution_count": 69,
   "metadata": {},
   "outputs": [
    {
     "data": {
      "text/html": [
       "<div>\n",
       "<style scoped>\n",
       "    .dataframe tbody tr th:only-of-type {\n",
       "        vertical-align: middle;\n",
       "    }\n",
       "\n",
       "    .dataframe tbody tr th {\n",
       "        vertical-align: top;\n",
       "    }\n",
       "\n",
       "    .dataframe thead th {\n",
       "        text-align: right;\n",
       "    }\n",
       "</style>\n",
       "<table border=\"1\" class=\"dataframe\">\n",
       "  <thead>\n",
       "    <tr style=\"text-align: right;\">\n",
       "      <th></th>\n",
       "      <th>cups</th>\n",
       "      <th>rating</th>\n",
       "    </tr>\n",
       "  </thead>\n",
       "  <tbody>\n",
       "    <tr>\n",
       "      <th>cups</th>\n",
       "      <td>1.00000</td>\n",
       "      <td>-0.20316</td>\n",
       "    </tr>\n",
       "    <tr>\n",
       "      <th>rating</th>\n",
       "      <td>-0.20316</td>\n",
       "      <td>1.00000</td>\n",
       "    </tr>\n",
       "  </tbody>\n",
       "</table>\n",
       "</div>"
      ],
      "text/plain": [
       "           cups   rating\n",
       "cups    1.00000 -0.20316\n",
       "rating -0.20316  1.00000"
      ]
     },
     "execution_count": 69,
     "metadata": {},
     "output_type": "execute_result"
    }
   ],
   "source": [
    "f = df[['cups','rating']].corr()\n",
    "f"
   ]
  },
  {
   "cell_type": "code",
   "execution_count": 70,
   "metadata": {},
   "outputs": [
    {
     "data": {
      "image/png": "[encoded data removed]",
      "text/plain": [
       "<Figure size 360x360 with 1 Axes>"
      ]
     },
     "metadata": {
      "image/png": {
       "height": 335,
       "width": 357
      },
      "needs_background": "light"
     },
     "output_type": "display_data"
    }
   ],
   "source": [
    "fig, ax = plt.subplots(figsize =(5,5))\n",
    "x = df['cups']\n",
    "y = df['rating']\n",
    "\n",
    "ax.scatter(x, y, color = 'darkblue', alpha = 0.1)\n",
    "ax.set_xlabel('Amount of Cups in a Serving', fontsize = 12)\n",
    "ax.set_ylabel('Rating', fontsize = 12)\n",
    "ax.set_title('Would more cups in a serving be more popular?', fontsize = 14)\n",
    "\n",
    "plt.show()\n"
   ]
  },
  {
   "cell_type": "markdown",
   "metadata": {},
   "source": [
    "<div class =\"alert alert-block alert-warning\">\n",
    "\n",
    "> **(e) Besides the information provided in the data, what else information might be helpful to achieve your boss’ goal?**\n",
    "- Aside from the information in the data set, some additional information that would help my boss pick a manufacturer and product for school breakfasts. One additional piece of information that would be helpful is if the cereal is being used for school breakfasts before. Another one is if the cereal has received complaints before in amounts."
   ]
  }
 ],
 "metadata": {
  "kernelspec": {
   "display_name": "Python 3",
   "language": "python",
   "name": "python3"
  },
  "language_info": {
   "codemirror_mode": {
    "name": "ipython",
    "version": 3
   },
   "file_extension": ".py",
   "mimetype": "text/x-python",
   "name": "python",
   "nbconvert_exporter": "python",
   "pygments_lexer": "ipython3",
   "version": "3.7.3"
  }
 },
 "nbformat": 4,
 "nbformat_minor": 4
}
