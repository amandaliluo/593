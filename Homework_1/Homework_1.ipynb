{
 "cells": [
  {
   "cell_type": "markdown",
   "metadata": {},
   "source": [
    "<div class=\"alert alert-block alert-info\">  \n",
    "\n",
    "## <font color=darkblue>MSDS 593 EDA and Visualization: Homework #1</font>\n",
    "###### By: Amanda Li Luo\n",
    "###### Student ID #: 20645578\n"
   ]
  },
  {
   "cell_type": "code",
   "execution_count": 1,
   "metadata": {},
   "outputs": [],
   "source": [
    "import numpy as np\n",
    "import pandas as pd\n",
    "import matplotlib.pyplot as plt"
   ]
  },
  {
   "cell_type": "markdown",
   "metadata": {},
   "source": [
    "<div class =\"alert alert-block alert-success\">\n",
    "\n",
    "### Question 1: Create a 1D ndarray of numbers from 100 to 112 (step=1) inclusively and use python to\n"
   ]
  },
  {
   "cell_type": "code",
   "execution_count": null,
   "metadata": {},
   "outputs": [],
   "source": [
    "x = np.arange(100, 113, 1)\n",
    "x"
   ]
  },
  {
   "cell_type": "markdown",
   "metadata": {},
   "source": [
    "> **(a) Print the shape of the array**"
   ]
  },
  {
   "cell_type": "code",
   "execution_count": null,
   "metadata": {},
   "outputs": [],
   "source": [
    "print('Shape:', x.shape)"
   ]
  },
  {
   "cell_type": "markdown",
   "metadata": {},
   "source": [
    "> **(b) print the data type of the array**"
   ]
  },
  {
   "cell_type": "code",
   "execution_count": null,
   "metadata": {},
   "outputs": [],
   "source": [
    "print('Data type:', type(x))"
   ]
  },
  {
   "cell_type": "markdown",
   "metadata": {},
   "source": [
    "> **(c) Create a new array that is a slice of the original array with index [5 : 10] inclusively,and assign all values of the the new array to be 0.**"
   ]
  },
  {
   "cell_type": "code",
   "execution_count": null,
   "metadata": {},
   "outputs": [],
   "source": [
    "new_x = x[5:11]\n",
    "print(new_x)\n",
    "new_x[:] = 0\n",
    "new_x"
   ]
  },
  {
   "cell_type": "markdown",
   "metadata": {},
   "source": [
    "> **(d) Create a boolean vector from the array to indicate if any element is greater than 105,and less than or equal to 110.**"
   ]
  },
  {
   "cell_type": "code",
   "execution_count": null,
   "metadata": {},
   "outputs": [],
   "source": [
    "boolean_x = (x >105) & (x <= 110)\n",
    "\n",
    "boolean_x"
   ]
  },
  {
   "cell_type": "markdown",
   "metadata": {},
   "source": [
    "> **(e) Replace all the elements in the array that are greater than 105 and less than or equal to 110 with 0.**"
   ]
  },
  {
   "cell_type": "code",
   "execution_count": null,
   "metadata": {},
   "outputs": [],
   "source": [
    "x[boolean_x] = 0\n"
   ]
  },
  {
   "cell_type": "code",
   "execution_count": null,
   "metadata": {},
   "outputs": [],
   "source": [
    "x"
   ]
  },
  {
   "cell_type": "markdown",
   "metadata": {},
   "source": [
    "<div class=\"alert alert-block alert-success\">  \n",
    "\n",
    "\n",
    "### Question 2: Make a Series object with year values: 1991, 1992, 1993, 1994, 1995, 1996, 1997, 1998, 1999, 2000."
   ]
  },
  {
   "cell_type": "code",
   "execution_count": null,
   "metadata": {},
   "outputs": [],
   "source": [
    "year = pd.Series(range(1991,2001,1))\n",
    "year"
   ]
  },
  {
   "cell_type": "markdown",
   "metadata": {},
   "source": [
    "> **(a) Print out how many total values there are using code not manual counting**"
   ]
  },
  {
   "cell_type": "code",
   "execution_count": null,
   "metadata": {},
   "outputs": [],
   "source": [
    "print('Total number of years:', year.count())"
   ]
  },
  {
   "cell_type": "markdown",
   "metadata": {},
   "source": [
    "> **(b) Make another series with rainfall values 12.09, 12.35, 12.51, 10.25, 10.18, 10.59, 10.26, 10.48, 8.67, 10.23**"
   ]
  },
  {
   "cell_type": "code",
   "execution_count": null,
   "metadata": {},
   "outputs": [],
   "source": [
    "rainfall = pd.Series([12.09, 12.35, 12.51, 10.25, 10.18, 10.59, 10.26, 10.48, 8.67, 10.23])\n",
    "rainfall"
   ]
  },
  {
   "cell_type": "markdown",
   "metadata": {},
   "source": [
    "> **(c) Imagine the order of rainfall values follow the order the years. Print out the years for which rainfall was less than 11.**"
   ]
  },
  {
   "cell_type": "code",
   "execution_count": null,
   "metadata": {},
   "outputs": [],
   "source": [
    "# a= rainfall[rainfall < 11].index\n",
    "# print(a)\n",
    "# year[a]\n",
    "print(year[rainfall[rainfall < 11].index].values)"
   ]
  },
  {
   "cell_type": "markdown",
   "metadata": {},
   "source": [
    "<div class=\"alert alert-block alert-danger\">  \n",
    "> **(d) Normalize that rainfall series by x−mean std and print it out.**"
   ]
  },
  {
   "cell_type": "code",
   "execution_count": null,
   "metadata": {},
   "outputs": [],
   "source": [
    "rainfall.describe()"
   ]
  },
  {
   "cell_type": "code",
   "execution_count": null,
   "metadata": {},
   "outputs": [],
   "source": [
    "num = rainfall.describe()['mean']/ rainfall.describe()['std']\n",
    "num"
   ]
  },
  {
   "cell_type": "markdown",
   "metadata": {},
   "source": [
    "> **(e) Set the year starting 1996 and forward as np.nan. Count the number of missing values.**"
   ]
  },
  {
   "cell_type": "code",
   "execution_count": null,
   "metadata": {},
   "outputs": [],
   "source": [
    "year[year >= 1996] = np.nan\n",
    "missing_num = year.isna().value_counts()[False]\n",
    "print('Number of missing values:', missing_num)"
   ]
  },
  {
   "cell_type": "markdown",
   "metadata": {},
   "source": [
    "> **(f) Fill all the NaNs with 0.**"
   ]
  },
  {
   "cell_type": "code",
   "execution_count": null,
   "metadata": {},
   "outputs": [],
   "source": [
    "year[year.isna()] = 0\n",
    "year"
   ]
  },
  {
   "cell_type": "markdown",
   "metadata": {},
   "source": [
    "<div class=\"alert alert-block alert-success\">  \n",
    "    \n",
    "### Question 3: For the cars.csv data set:\n"
   ]
  },
  {
   "cell_type": "code",
   "execution_count": null,
   "metadata": {},
   "outputs": [],
   "source": [
    "cars = pd.read_csv('cars.csv')\n",
    "cars.head(10)"
   ]
  },
  {
   "cell_type": "markdown",
   "metadata": {},
   "source": [
    "> **(a) Use numpy’s function np.corrcoe f(x, y) to compute the correlation between a car’s weight and the miles per gallon; that function returns a matrix of x with x, x with y, etc... so the diagonal will always be correlation 1.0. What is the correlation between a car’s weight and the MPG? What does the correlation tell us about their relationship?**\n",
    "\n",
    ">> The correlation between a car's weight and the miles per gallon is *-0.83224421*. This correlation is a strong negative correlation indicating that as a car's weight increases, the number of miles per gallon decreases(and vice versa). "
   ]
  },
  {
   "cell_type": "code",
   "execution_count": null,
   "metadata": {},
   "outputs": [],
   "source": [
    "np.corrcoef(cars['MPG'], cars['WGT'])"
   ]
  },
  {
   "cell_type": "markdown",
   "metadata": {},
   "source": [
    "> **(b) Display the records for all 8 cylinder cars**"
   ]
  },
  {
   "cell_type": "code",
   "execution_count": null,
   "metadata": {},
   "outputs": [],
   "source": [
    "cars[cars['CYL'] == 8]"
   ]
  },
  {
   "cell_type": "markdown",
   "metadata": {},
   "source": [
    "> **(c) Create a new column called ‘ENG2WGT‘ that has the engine to weight ratio**"
   ]
  },
  {
   "cell_type": "code",
   "execution_count": null,
   "metadata": {},
   "outputs": [],
   "source": [
    "cars['ENG2WGT'] = cars['ENG']/cars['WGT']"
   ]
  },
  {
   "cell_type": "code",
   "execution_count": null,
   "metadata": {},
   "outputs": [],
   "source": [
    "cars"
   ]
  },
  {
   "cell_type": "markdown",
   "metadata": {},
   "source": [
    "<div class=\"alert alert-block alert-success\">  \n",
    "\n",
    "### Question 4: For the kaggle − uber − other − f ederal.csv data set:"
   ]
  },
  {
   "cell_type": "code",
   "execution_count": 2,
   "metadata": {},
   "outputs": [
    {
     "data": {
      "text/html": [
       "<div>\n",
       "<style scoped>\n",
       "    .dataframe tbody tr th:only-of-type {\n",
       "        vertical-align: middle;\n",
       "    }\n",
       "\n",
       "    .dataframe tbody tr th {\n",
       "        vertical-align: top;\n",
       "    }\n",
       "\n",
       "    .dataframe thead th {\n",
       "        text-align: right;\n",
       "    }\n",
       "</style>\n",
       "<table border=\"1\" class=\"dataframe\">\n",
       "  <thead>\n",
       "    <tr style=\"text-align: right;\">\n",
       "      <th></th>\n",
       "      <th>Date</th>\n",
       "      <th>Time</th>\n",
       "      <th>PU_Address</th>\n",
       "      <th>DO_Address</th>\n",
       "      <th>Routing Details</th>\n",
       "      <th>PU_Address.1</th>\n",
       "      <th>Status</th>\n",
       "    </tr>\n",
       "  </thead>\n",
       "  <tbody>\n",
       "    <tr>\n",
       "      <th>0</th>\n",
       "      <td>2014-07-01</td>\n",
       "      <td>2021-07-12 07:15:00</td>\n",
       "      <td>Brooklyn Museum, 200 Eastern Pkwy., BK NY;</td>\n",
       "      <td>1 Brookdale Plaza, BK NY;</td>\n",
       "      <td>PU: Brooklyn Museum, 200 Eastern Pkwy., BK NY;...</td>\n",
       "      <td>Brooklyn Museum, 200 Eastern Pkwy., BK NY; DO:...</td>\n",
       "      <td>Cancelled</td>\n",
       "    </tr>\n",
       "    <tr>\n",
       "      <th>1</th>\n",
       "      <td>2014-07-01</td>\n",
       "      <td>2021-07-12 07:30:00</td>\n",
       "      <td>33 Robert Dr., Short Hills NJ;</td>\n",
       "      <td>John F Kennedy International Airport, vitona A...</td>\n",
       "      <td>PU: 33 Robert Dr., Short Hills NJ; DO: John F ...</td>\n",
       "      <td>33 Robert Dr., Short Hills NJ; DO: John F Kenn...</td>\n",
       "      <td>Arrived</td>\n",
       "    </tr>\n",
       "  </tbody>\n",
       "</table>\n",
       "</div>"
      ],
      "text/plain": [
       "        Date                Time                                  PU_Address  \\\n",
       "0 2014-07-01 2021-07-12 07:15:00  Brooklyn Museum, 200 Eastern Pkwy., BK NY;   \n",
       "1 2014-07-01 2021-07-12 07:30:00              33 Robert Dr., Short Hills NJ;   \n",
       "\n",
       "                                          DO_Address  \\\n",
       "0                         1 Brookdale Plaza, BK NY;    \n",
       "1  John F Kennedy International Airport, vitona A...   \n",
       "\n",
       "                                     Routing Details  \\\n",
       "0  PU: Brooklyn Museum, 200 Eastern Pkwy., BK NY;...   \n",
       "1  PU: 33 Robert Dr., Short Hills NJ; DO: John F ...   \n",
       "\n",
       "                                        PU_Address.1     Status  \n",
       "0  Brooklyn Museum, 200 Eastern Pkwy., BK NY; DO:...  Cancelled  \n",
       "1  33 Robert Dr., Short Hills NJ; DO: John F Kenn...    Arrived  "
      ]
     },
     "execution_count": 2,
     "metadata": {},
     "output_type": "execute_result"
    }
   ],
   "source": [
    "uber = pd.read_csv('kaggle-uber-other-federal.csv',\n",
    "                  parse_dates = ['Date', 'Time'])\n",
    "uber.head(2)"
   ]
  },
  {
   "cell_type": "markdown",
   "metadata": {},
   "source": [
    "> **(a) Create a new data frame containing ‘Time‘, ‘Status‘, and ‘PU_Address‘ columns**"
   ]
  },
  {
   "cell_type": "code",
   "execution_count": 3,
   "metadata": {},
   "outputs": [
    {
     "data": {
      "text/html": [
       "<div>\n",
       "<style scoped>\n",
       "    .dataframe tbody tr th:only-of-type {\n",
       "        vertical-align: middle;\n",
       "    }\n",
       "\n",
       "    .dataframe tbody tr th {\n",
       "        vertical-align: top;\n",
       "    }\n",
       "\n",
       "    .dataframe thead th {\n",
       "        text-align: right;\n",
       "    }\n",
       "</style>\n",
       "<table border=\"1\" class=\"dataframe\">\n",
       "  <thead>\n",
       "    <tr style=\"text-align: right;\">\n",
       "      <th></th>\n",
       "      <th>Time</th>\n",
       "      <th>Status</th>\n",
       "      <th>PU_Address</th>\n",
       "    </tr>\n",
       "  </thead>\n",
       "  <tbody>\n",
       "    <tr>\n",
       "      <th>0</th>\n",
       "      <td>2021-07-12 07:15:00</td>\n",
       "      <td>Cancelled</td>\n",
       "      <td>Brooklyn Museum, 200 Eastern Pkwy., BK NY;</td>\n",
       "    </tr>\n",
       "    <tr>\n",
       "      <th>1</th>\n",
       "      <td>2021-07-12 07:30:00</td>\n",
       "      <td>Arrived</td>\n",
       "      <td>33 Robert Dr., Short Hills NJ;</td>\n",
       "    </tr>\n",
       "    <tr>\n",
       "      <th>2</th>\n",
       "      <td>2021-07-12 08:00:00</td>\n",
       "      <td>Assigned</td>\n",
       "      <td>60 Glenmore Ave., BK NY;</td>\n",
       "    </tr>\n",
       "    <tr>\n",
       "      <th>3</th>\n",
       "      <td>2021-07-12 09:00:00</td>\n",
       "      <td>Assigned</td>\n",
       "      <td>128 East 31 St., BK NY;</td>\n",
       "    </tr>\n",
       "    <tr>\n",
       "      <th>4</th>\n",
       "      <td>2021-07-12 09:30:00</td>\n",
       "      <td>Assigned</td>\n",
       "      <td>139-39 35 Ave., Flushing NY;</td>\n",
       "    </tr>\n",
       "    <tr>\n",
       "      <th>...</th>\n",
       "      <td>...</td>\n",
       "      <td>...</td>\n",
       "      <td>...</td>\n",
       "    </tr>\n",
       "    <tr>\n",
       "      <th>94</th>\n",
       "      <td>2021-07-12 06:00:00</td>\n",
       "      <td>Assigned</td>\n",
       "      <td>266 prospect park west, brooklyn NY;</td>\n",
       "    </tr>\n",
       "    <tr>\n",
       "      <th>95</th>\n",
       "      <td>2021-07-12 08:30:00</td>\n",
       "      <td>Cancelled</td>\n",
       "      <td>42 St., BK NY;</td>\n",
       "    </tr>\n",
       "    <tr>\n",
       "      <th>96</th>\n",
       "      <td>2021-07-12 12:00:00</td>\n",
       "      <td>Arrived</td>\n",
       "      <td>663 51st Street, BK NY;</td>\n",
       "    </tr>\n",
       "    <tr>\n",
       "      <th>97</th>\n",
       "      <td>2021-07-12 16:45:00</td>\n",
       "      <td>Assigned</td>\n",
       "      <td>255 Fieldston Terrace, Bronx NY;</td>\n",
       "    </tr>\n",
       "    <tr>\n",
       "      <th>98</th>\n",
       "      <td>2021-07-12 13:30:00</td>\n",
       "      <td>Arrived</td>\n",
       "      <td>Columbia University, 630 W 168 St., NY NY; ST:...</td>\n",
       "    </tr>\n",
       "  </tbody>\n",
       "</table>\n",
       "<p>99 rows × 3 columns</p>\n",
       "</div>"
      ],
      "text/plain": [
       "                  Time     Status  \\\n",
       "0  2021-07-12 07:15:00  Cancelled   \n",
       "1  2021-07-12 07:30:00    Arrived   \n",
       "2  2021-07-12 08:00:00   Assigned   \n",
       "3  2021-07-12 09:00:00   Assigned   \n",
       "4  2021-07-12 09:30:00   Assigned   \n",
       "..                 ...        ...   \n",
       "94 2021-07-12 06:00:00   Assigned   \n",
       "95 2021-07-12 08:30:00  Cancelled   \n",
       "96 2021-07-12 12:00:00    Arrived   \n",
       "97 2021-07-12 16:45:00   Assigned   \n",
       "98 2021-07-12 13:30:00    Arrived   \n",
       "\n",
       "                                           PU_Address  \n",
       "0          Brooklyn Museum, 200 Eastern Pkwy., BK NY;  \n",
       "1                      33 Robert Dr., Short Hills NJ;  \n",
       "2                            60 Glenmore Ave., BK NY;  \n",
       "3                             128 East 31 St., BK NY;  \n",
       "4                        139-39 35 Ave., Flushing NY;  \n",
       "..                                                ...  \n",
       "94               266 prospect park west, brooklyn NY;  \n",
       "95                                     42 St., BK NY;  \n",
       "96                            663 51st Street, BK NY;  \n",
       "97                   255 Fieldston Terrace, Bronx NY;  \n",
       "98  Columbia University, 630 W 168 St., NY NY; ST:...  \n",
       "\n",
       "[99 rows x 3 columns]"
      ]
     },
     "execution_count": 3,
     "metadata": {},
     "output_type": "execute_result"
    }
   ],
   "source": [
    "new_uber = uber[['Time', 'Status', 'PU_Address']]\n",
    "new_uber"
   ]
  },
  {
   "cell_type": "markdown",
   "metadata": {},
   "source": [
    "> **(b) Create a new column ‘Hour‘ extracting hour information from ‘Time‘. Hint: make sure ‘Time‘ is the correct data type and keep the date added.**"
   ]
  },
  {
   "cell_type": "code",
   "execution_count": 4,
   "metadata": {},
   "outputs": [
    {
     "data": {
      "text/html": [
       "<div>\n",
       "<style scoped>\n",
       "    .dataframe tbody tr th:only-of-type {\n",
       "        vertical-align: middle;\n",
       "    }\n",
       "\n",
       "    .dataframe tbody tr th {\n",
       "        vertical-align: top;\n",
       "    }\n",
       "\n",
       "    .dataframe thead th {\n",
       "        text-align: right;\n",
       "    }\n",
       "</style>\n",
       "<table border=\"1\" class=\"dataframe\">\n",
       "  <thead>\n",
       "    <tr style=\"text-align: right;\">\n",
       "      <th></th>\n",
       "      <th>Time</th>\n",
       "      <th>Status</th>\n",
       "      <th>PU_Address</th>\n",
       "    </tr>\n",
       "  </thead>\n",
       "  <tbody>\n",
       "    <tr>\n",
       "      <th>0</th>\n",
       "      <td>2021-07-12 07:15:00</td>\n",
       "      <td>Cancelled</td>\n",
       "      <td>Brooklyn Museum, 200 Eastern Pkwy., BK NY;</td>\n",
       "    </tr>\n",
       "    <tr>\n",
       "      <th>1</th>\n",
       "      <td>2021-07-12 07:30:00</td>\n",
       "      <td>Arrived</td>\n",
       "      <td>33 Robert Dr., Short Hills NJ;</td>\n",
       "    </tr>\n",
       "    <tr>\n",
       "      <th>2</th>\n",
       "      <td>2021-07-12 08:00:00</td>\n",
       "      <td>Assigned</td>\n",
       "      <td>60 Glenmore Ave., BK NY;</td>\n",
       "    </tr>\n",
       "    <tr>\n",
       "      <th>3</th>\n",
       "      <td>2021-07-12 09:00:00</td>\n",
       "      <td>Assigned</td>\n",
       "      <td>128 East 31 St., BK NY;</td>\n",
       "    </tr>\n",
       "    <tr>\n",
       "      <th>4</th>\n",
       "      <td>2021-07-12 09:30:00</td>\n",
       "      <td>Assigned</td>\n",
       "      <td>139-39 35 Ave., Flushing NY;</td>\n",
       "    </tr>\n",
       "    <tr>\n",
       "      <th>...</th>\n",
       "      <td>...</td>\n",
       "      <td>...</td>\n",
       "      <td>...</td>\n",
       "    </tr>\n",
       "    <tr>\n",
       "      <th>94</th>\n",
       "      <td>2021-07-12 06:00:00</td>\n",
       "      <td>Assigned</td>\n",
       "      <td>266 prospect park west, brooklyn NY;</td>\n",
       "    </tr>\n",
       "    <tr>\n",
       "      <th>95</th>\n",
       "      <td>2021-07-12 08:30:00</td>\n",
       "      <td>Cancelled</td>\n",
       "      <td>42 St., BK NY;</td>\n",
       "    </tr>\n",
       "    <tr>\n",
       "      <th>96</th>\n",
       "      <td>2021-07-12 12:00:00</td>\n",
       "      <td>Arrived</td>\n",
       "      <td>663 51st Street, BK NY;</td>\n",
       "    </tr>\n",
       "    <tr>\n",
       "      <th>97</th>\n",
       "      <td>2021-07-12 16:45:00</td>\n",
       "      <td>Assigned</td>\n",
       "      <td>255 Fieldston Terrace, Bronx NY;</td>\n",
       "    </tr>\n",
       "    <tr>\n",
       "      <th>98</th>\n",
       "      <td>2021-07-12 13:30:00</td>\n",
       "      <td>Arrived</td>\n",
       "      <td>Columbia University, 630 W 168 St., NY NY; ST:...</td>\n",
       "    </tr>\n",
       "  </tbody>\n",
       "</table>\n",
       "<p>99 rows × 3 columns</p>\n",
       "</div>"
      ],
      "text/plain": [
       "                  Time     Status  \\\n",
       "0  2021-07-12 07:15:00  Cancelled   \n",
       "1  2021-07-12 07:30:00    Arrived   \n",
       "2  2021-07-12 08:00:00   Assigned   \n",
       "3  2021-07-12 09:00:00   Assigned   \n",
       "4  2021-07-12 09:30:00   Assigned   \n",
       "..                 ...        ...   \n",
       "94 2021-07-12 06:00:00   Assigned   \n",
       "95 2021-07-12 08:30:00  Cancelled   \n",
       "96 2021-07-12 12:00:00    Arrived   \n",
       "97 2021-07-12 16:45:00   Assigned   \n",
       "98 2021-07-12 13:30:00    Arrived   \n",
       "\n",
       "                                           PU_Address  \n",
       "0          Brooklyn Museum, 200 Eastern Pkwy., BK NY;  \n",
       "1                      33 Robert Dr., Short Hills NJ;  \n",
       "2                            60 Glenmore Ave., BK NY;  \n",
       "3                             128 East 31 St., BK NY;  \n",
       "4                        139-39 35 Ave., Flushing NY;  \n",
       "..                                                ...  \n",
       "94               266 prospect park west, brooklyn NY;  \n",
       "95                                     42 St., BK NY;  \n",
       "96                            663 51st Street, BK NY;  \n",
       "97                   255 Fieldston Terrace, Bronx NY;  \n",
       "98  Columbia University, 630 W 168 St., NY NY; ST:...  \n",
       "\n",
       "[99 rows x 3 columns]"
      ]
     },
     "execution_count": 4,
     "metadata": {},
     "output_type": "execute_result"
    }
   ],
   "source": [
    "df_uber = new_uber.copy()\n",
    "df_uber"
   ]
  },
  {
   "cell_type": "code",
   "execution_count": 5,
   "metadata": {},
   "outputs": [
    {
     "data": {
      "text/html": [
       "<div>\n",
       "<style scoped>\n",
       "    .dataframe tbody tr th:only-of-type {\n",
       "        vertical-align: middle;\n",
       "    }\n",
       "\n",
       "    .dataframe tbody tr th {\n",
       "        vertical-align: top;\n",
       "    }\n",
       "\n",
       "    .dataframe thead th {\n",
       "        text-align: right;\n",
       "    }\n",
       "</style>\n",
       "<table border=\"1\" class=\"dataframe\">\n",
       "  <thead>\n",
       "    <tr style=\"text-align: right;\">\n",
       "      <th></th>\n",
       "      <th>Time</th>\n",
       "      <th>Status</th>\n",
       "      <th>PU_Address</th>\n",
       "      <th>Hour</th>\n",
       "    </tr>\n",
       "  </thead>\n",
       "  <tbody>\n",
       "    <tr>\n",
       "      <th>0</th>\n",
       "      <td>2021-07-12 07:15:00</td>\n",
       "      <td>Cancelled</td>\n",
       "      <td>Brooklyn Museum, 200 Eastern Pkwy., BK NY;</td>\n",
       "      <td>7</td>\n",
       "    </tr>\n",
       "    <tr>\n",
       "      <th>1</th>\n",
       "      <td>2021-07-12 07:30:00</td>\n",
       "      <td>Arrived</td>\n",
       "      <td>33 Robert Dr., Short Hills NJ;</td>\n",
       "      <td>7</td>\n",
       "    </tr>\n",
       "    <tr>\n",
       "      <th>2</th>\n",
       "      <td>2021-07-12 08:00:00</td>\n",
       "      <td>Assigned</td>\n",
       "      <td>60 Glenmore Ave., BK NY;</td>\n",
       "      <td>8</td>\n",
       "    </tr>\n",
       "    <tr>\n",
       "      <th>3</th>\n",
       "      <td>2021-07-12 09:00:00</td>\n",
       "      <td>Assigned</td>\n",
       "      <td>128 East 31 St., BK NY;</td>\n",
       "      <td>9</td>\n",
       "    </tr>\n",
       "    <tr>\n",
       "      <th>4</th>\n",
       "      <td>2021-07-12 09:30:00</td>\n",
       "      <td>Assigned</td>\n",
       "      <td>139-39 35 Ave., Flushing NY;</td>\n",
       "      <td>9</td>\n",
       "    </tr>\n",
       "    <tr>\n",
       "      <th>...</th>\n",
       "      <td>...</td>\n",
       "      <td>...</td>\n",
       "      <td>...</td>\n",
       "      <td>...</td>\n",
       "    </tr>\n",
       "    <tr>\n",
       "      <th>94</th>\n",
       "      <td>2021-07-12 06:00:00</td>\n",
       "      <td>Assigned</td>\n",
       "      <td>266 prospect park west, brooklyn NY;</td>\n",
       "      <td>6</td>\n",
       "    </tr>\n",
       "    <tr>\n",
       "      <th>95</th>\n",
       "      <td>2021-07-12 08:30:00</td>\n",
       "      <td>Cancelled</td>\n",
       "      <td>42 St., BK NY;</td>\n",
       "      <td>8</td>\n",
       "    </tr>\n",
       "    <tr>\n",
       "      <th>96</th>\n",
       "      <td>2021-07-12 12:00:00</td>\n",
       "      <td>Arrived</td>\n",
       "      <td>663 51st Street, BK NY;</td>\n",
       "      <td>12</td>\n",
       "    </tr>\n",
       "    <tr>\n",
       "      <th>97</th>\n",
       "      <td>2021-07-12 16:45:00</td>\n",
       "      <td>Assigned</td>\n",
       "      <td>255 Fieldston Terrace, Bronx NY;</td>\n",
       "      <td>16</td>\n",
       "    </tr>\n",
       "    <tr>\n",
       "      <th>98</th>\n",
       "      <td>2021-07-12 13:30:00</td>\n",
       "      <td>Arrived</td>\n",
       "      <td>Columbia University, 630 W 168 St., NY NY; ST:...</td>\n",
       "      <td>13</td>\n",
       "    </tr>\n",
       "  </tbody>\n",
       "</table>\n",
       "<p>99 rows × 4 columns</p>\n",
       "</div>"
      ],
      "text/plain": [
       "                  Time     Status  \\\n",
       "0  2021-07-12 07:15:00  Cancelled   \n",
       "1  2021-07-12 07:30:00    Arrived   \n",
       "2  2021-07-12 08:00:00   Assigned   \n",
       "3  2021-07-12 09:00:00   Assigned   \n",
       "4  2021-07-12 09:30:00   Assigned   \n",
       "..                 ...        ...   \n",
       "94 2021-07-12 06:00:00   Assigned   \n",
       "95 2021-07-12 08:30:00  Cancelled   \n",
       "96 2021-07-12 12:00:00    Arrived   \n",
       "97 2021-07-12 16:45:00   Assigned   \n",
       "98 2021-07-12 13:30:00    Arrived   \n",
       "\n",
       "                                           PU_Address  Hour  \n",
       "0          Brooklyn Museum, 200 Eastern Pkwy., BK NY;     7  \n",
       "1                      33 Robert Dr., Short Hills NJ;     7  \n",
       "2                            60 Glenmore Ave., BK NY;     8  \n",
       "3                             128 East 31 St., BK NY;     9  \n",
       "4                        139-39 35 Ave., Flushing NY;     9  \n",
       "..                                                ...   ...  \n",
       "94               266 prospect park west, brooklyn NY;     6  \n",
       "95                                     42 St., BK NY;     8  \n",
       "96                            663 51st Street, BK NY;    12  \n",
       "97                   255 Fieldston Terrace, Bronx NY;    16  \n",
       "98  Columbia University, 630 W 168 St., NY NY; ST:...    13  \n",
       "\n",
       "[99 rows x 4 columns]"
      ]
     },
     "execution_count": 5,
     "metadata": {},
     "output_type": "execute_result"
    }
   ],
   "source": [
    "df_uber['Hour'] = df_uber['Time'].dt.hour\n",
    "df_uber"
   ]
  },
  {
   "cell_type": "markdown",
   "metadata": {},
   "source": [
    "> **(c) Set the index of the data frame to ‘Time‘.**"
   ]
  },
  {
   "cell_type": "code",
   "execution_count": 6,
   "metadata": {},
   "outputs": [
    {
     "data": {
      "text/html": [
       "<div>\n",
       "<style scoped>\n",
       "    .dataframe tbody tr th:only-of-type {\n",
       "        vertical-align: middle;\n",
       "    }\n",
       "\n",
       "    .dataframe tbody tr th {\n",
       "        vertical-align: top;\n",
       "    }\n",
       "\n",
       "    .dataframe thead th {\n",
       "        text-align: right;\n",
       "    }\n",
       "</style>\n",
       "<table border=\"1\" class=\"dataframe\">\n",
       "  <thead>\n",
       "    <tr style=\"text-align: right;\">\n",
       "      <th></th>\n",
       "      <th>Status</th>\n",
       "      <th>PU_Address</th>\n",
       "      <th>Hour</th>\n",
       "    </tr>\n",
       "    <tr>\n",
       "      <th>Time</th>\n",
       "      <th></th>\n",
       "      <th></th>\n",
       "      <th></th>\n",
       "    </tr>\n",
       "  </thead>\n",
       "  <tbody>\n",
       "    <tr>\n",
       "      <th>2021-07-12 07:15:00</th>\n",
       "      <td>Cancelled</td>\n",
       "      <td>Brooklyn Museum, 200 Eastern Pkwy., BK NY;</td>\n",
       "      <td>7</td>\n",
       "    </tr>\n",
       "    <tr>\n",
       "      <th>2021-07-12 07:30:00</th>\n",
       "      <td>Arrived</td>\n",
       "      <td>33 Robert Dr., Short Hills NJ;</td>\n",
       "      <td>7</td>\n",
       "    </tr>\n",
       "    <tr>\n",
       "      <th>2021-07-12 08:00:00</th>\n",
       "      <td>Assigned</td>\n",
       "      <td>60 Glenmore Ave., BK NY;</td>\n",
       "      <td>8</td>\n",
       "    </tr>\n",
       "    <tr>\n",
       "      <th>2021-07-12 09:00:00</th>\n",
       "      <td>Assigned</td>\n",
       "      <td>128 East 31 St., BK NY;</td>\n",
       "      <td>9</td>\n",
       "    </tr>\n",
       "    <tr>\n",
       "      <th>2021-07-12 09:30:00</th>\n",
       "      <td>Assigned</td>\n",
       "      <td>139-39 35 Ave., Flushing NY;</td>\n",
       "      <td>9</td>\n",
       "    </tr>\n",
       "    <tr>\n",
       "      <th>...</th>\n",
       "      <td>...</td>\n",
       "      <td>...</td>\n",
       "      <td>...</td>\n",
       "    </tr>\n",
       "    <tr>\n",
       "      <th>2021-07-12 06:00:00</th>\n",
       "      <td>Assigned</td>\n",
       "      <td>266 prospect park west, brooklyn NY;</td>\n",
       "      <td>6</td>\n",
       "    </tr>\n",
       "    <tr>\n",
       "      <th>2021-07-12 08:30:00</th>\n",
       "      <td>Cancelled</td>\n",
       "      <td>42 St., BK NY;</td>\n",
       "      <td>8</td>\n",
       "    </tr>\n",
       "    <tr>\n",
       "      <th>2021-07-12 12:00:00</th>\n",
       "      <td>Arrived</td>\n",
       "      <td>663 51st Street, BK NY;</td>\n",
       "      <td>12</td>\n",
       "    </tr>\n",
       "    <tr>\n",
       "      <th>2021-07-12 16:45:00</th>\n",
       "      <td>Assigned</td>\n",
       "      <td>255 Fieldston Terrace, Bronx NY;</td>\n",
       "      <td>16</td>\n",
       "    </tr>\n",
       "    <tr>\n",
       "      <th>2021-07-12 13:30:00</th>\n",
       "      <td>Arrived</td>\n",
       "      <td>Columbia University, 630 W 168 St., NY NY; ST:...</td>\n",
       "      <td>13</td>\n",
       "    </tr>\n",
       "  </tbody>\n",
       "</table>\n",
       "<p>99 rows × 3 columns</p>\n",
       "</div>"
      ],
      "text/plain": [
       "                        Status  \\\n",
       "Time                             \n",
       "2021-07-12 07:15:00  Cancelled   \n",
       "2021-07-12 07:30:00    Arrived   \n",
       "2021-07-12 08:00:00   Assigned   \n",
       "2021-07-12 09:00:00   Assigned   \n",
       "2021-07-12 09:30:00   Assigned   \n",
       "...                        ...   \n",
       "2021-07-12 06:00:00   Assigned   \n",
       "2021-07-12 08:30:00  Cancelled   \n",
       "2021-07-12 12:00:00    Arrived   \n",
       "2021-07-12 16:45:00   Assigned   \n",
       "2021-07-12 13:30:00    Arrived   \n",
       "\n",
       "                                                            PU_Address  Hour  \n",
       "Time                                                                          \n",
       "2021-07-12 07:15:00         Brooklyn Museum, 200 Eastern Pkwy., BK NY;     7  \n",
       "2021-07-12 07:30:00                     33 Robert Dr., Short Hills NJ;     7  \n",
       "2021-07-12 08:00:00                           60 Glenmore Ave., BK NY;     8  \n",
       "2021-07-12 09:00:00                            128 East 31 St., BK NY;     9  \n",
       "2021-07-12 09:30:00                       139-39 35 Ave., Flushing NY;     9  \n",
       "...                                                                ...   ...  \n",
       "2021-07-12 06:00:00               266 prospect park west, brooklyn NY;     6  \n",
       "2021-07-12 08:30:00                                     42 St., BK NY;     8  \n",
       "2021-07-12 12:00:00                            663 51st Street, BK NY;    12  \n",
       "2021-07-12 16:45:00                   255 Fieldston Terrace, Bronx NY;    16  \n",
       "2021-07-12 13:30:00  Columbia University, 630 W 168 St., NY NY; ST:...    13  \n",
       "\n",
       "[99 rows x 3 columns]"
      ]
     },
     "execution_count": 6,
     "metadata": {},
     "output_type": "execute_result"
    }
   ],
   "source": [
    "df_uber.set_index('Time', inplace = True)\n",
    "df_uber"
   ]
  },
  {
   "cell_type": "markdown",
   "metadata": {},
   "source": [
    "> **(d) Display records at positions between 10 and 15 inclusively**"
   ]
  },
  {
   "cell_type": "code",
   "execution_count": 7,
   "metadata": {},
   "outputs": [
    {
     "data": {
      "text/html": [
       "<div>\n",
       "<style scoped>\n",
       "    .dataframe tbody tr th:only-of-type {\n",
       "        vertical-align: middle;\n",
       "    }\n",
       "\n",
       "    .dataframe tbody tr th {\n",
       "        vertical-align: top;\n",
       "    }\n",
       "\n",
       "    .dataframe thead th {\n",
       "        text-align: right;\n",
       "    }\n",
       "</style>\n",
       "<table border=\"1\" class=\"dataframe\">\n",
       "  <thead>\n",
       "    <tr style=\"text-align: right;\">\n",
       "      <th></th>\n",
       "      <th>Status</th>\n",
       "      <th>PU_Address</th>\n",
       "      <th>Hour</th>\n",
       "    </tr>\n",
       "    <tr>\n",
       "      <th>Time</th>\n",
       "      <th></th>\n",
       "      <th></th>\n",
       "      <th></th>\n",
       "    </tr>\n",
       "  </thead>\n",
       "  <tbody>\n",
       "    <tr>\n",
       "      <th>2021-07-12 20:00:00</th>\n",
       "      <td>Assigned</td>\n",
       "      <td>35-36 32 St., Astoria NY;</td>\n",
       "      <td>20</td>\n",
       "    </tr>\n",
       "    <tr>\n",
       "      <th>2021-07-12 03:30:00</th>\n",
       "      <td>Arrived</td>\n",
       "      <td>862 East 21 Street, BK NY;</td>\n",
       "      <td>3</td>\n",
       "    </tr>\n",
       "    <tr>\n",
       "      <th>2021-07-12 14:00:00</th>\n",
       "      <td>Assigned</td>\n",
       "      <td>1539 71st Street, BK NY;</td>\n",
       "      <td>14</td>\n",
       "    </tr>\n",
       "    <tr>\n",
       "      <th>2021-07-12 15:00:00</th>\n",
       "      <td>Arrived</td>\n",
       "      <td>208 Elmwood ave, BK NY;</td>\n",
       "      <td>15</td>\n",
       "    </tr>\n",
       "    <tr>\n",
       "      <th>2021-07-12 20:45:00</th>\n",
       "      <td>Arrived</td>\n",
       "      <td>543 1 St., BK NY;</td>\n",
       "      <td>20</td>\n",
       "    </tr>\n",
       "    <tr>\n",
       "      <th>2021-07-12 05:00:00</th>\n",
       "      <td>Arrived</td>\n",
       "      <td>513 Montgomery StreetBK NY;</td>\n",
       "      <td>5</td>\n",
       "    </tr>\n",
       "  </tbody>\n",
       "</table>\n",
       "</div>"
      ],
      "text/plain": [
       "                       Status                   PU_Address  Hour\n",
       "Time                                                            \n",
       "2021-07-12 20:00:00  Assigned    35-36 32 St., Astoria NY;    20\n",
       "2021-07-12 03:30:00   Arrived   862 East 21 Street, BK NY;     3\n",
       "2021-07-12 14:00:00  Assigned     1539 71st Street, BK NY;    14\n",
       "2021-07-12 15:00:00   Arrived      208 Elmwood ave, BK NY;    15\n",
       "2021-07-12 20:45:00   Arrived            543 1 St., BK NY;    20\n",
       "2021-07-12 05:00:00   Arrived  513 Montgomery StreetBK NY;     5"
      ]
     },
     "execution_count": 7,
     "metadata": {},
     "output_type": "execute_result"
    }
   ],
   "source": [
    "df_uber.iloc[10:16]"
   ]
  },
  {
   "cell_type": "markdown",
   "metadata": {},
   "source": [
    "> **(e) Display the ‘PU_Address‘ for records whose index is ’Today’s date 20:00:00’: hint: today’s date depends on the day you are working on the question.**"
   ]
  },
  {
   "cell_type": "code",
   "execution_count": 83,
   "metadata": {},
   "outputs": [
    {
     "data": {
      "text/plain": [
       "array([ True,  True, False, False, False, False, False, False, False,\n",
       "       False, False, False, False, False, False, False, False, False,\n",
       "        True, False, False, False, False, False, False, False, False,\n",
       "       False, False, False, False,  True, False, False, False, False,\n",
       "       False, False, False, False, False, False, False, False, False,\n",
       "       False, False, False, False, False, False, False, False, False,\n",
       "       False, False, False, False, False, False, False, False, False,\n",
       "       False,  True, False, False, False, False, False,  True, False,\n",
       "       False, False, False, False, False, False, False, False, False,\n",
       "       False, False, False, False, False, False, False, False, False,\n",
       "       False, False, False, False, False, False, False, False, False])"
      ]
     },
     "execution_count": 83,
     "metadata": {},
     "output_type": "execute_result"
    }
   ],
   "source": [
    "df_uber.index.hour == 7\n"
   ]
  },
  {
   "cell_type": "code",
   "execution_count": 92,
   "metadata": {},
   "outputs": [
    {
     "data": {
      "text/html": [
       "<div>\n",
       "<style scoped>\n",
       "    .dataframe tbody tr th:only-of-type {\n",
       "        vertical-align: middle;\n",
       "    }\n",
       "\n",
       "    .dataframe tbody tr th {\n",
       "        vertical-align: top;\n",
       "    }\n",
       "\n",
       "    .dataframe thead th {\n",
       "        text-align: right;\n",
       "    }\n",
       "</style>\n",
       "<table border=\"1\" class=\"dataframe\">\n",
       "  <thead>\n",
       "    <tr style=\"text-align: right;\">\n",
       "      <th></th>\n",
       "      <th>Status</th>\n",
       "      <th>PU_Address</th>\n",
       "      <th>Hour</th>\n",
       "    </tr>\n",
       "    <tr>\n",
       "      <th>Time</th>\n",
       "      <th></th>\n",
       "      <th></th>\n",
       "      <th></th>\n",
       "    </tr>\n",
       "  </thead>\n",
       "  <tbody>\n",
       "    <tr>\n",
       "      <th>2021-07-12 20:00:00</th>\n",
       "      <td>Assigned</td>\n",
       "      <td>35-36 32 St., Astoria NY;</td>\n",
       "      <td>20</td>\n",
       "    </tr>\n",
       "    <tr>\n",
       "      <th>2021-07-12 20:00:00</th>\n",
       "      <td>Arrived</td>\n",
       "      <td>717 President Street, BK NY;</td>\n",
       "      <td>20</td>\n",
       "    </tr>\n",
       "  </tbody>\n",
       "</table>\n",
       "</div>"
      ],
      "text/plain": [
       "                       Status                    PU_Address  Hour\n",
       "Time                                                             \n",
       "2021-07-12 20:00:00  Assigned     35-36 32 St., Astoria NY;    20\n",
       "2021-07-12 20:00:00   Arrived  717 President Street, BK NY;    20"
      ]
     },
     "execution_count": 92,
     "metadata": {},
     "output_type": "execute_result"
    }
   ],
   "source": [
    "df_uber[(df_uber.index.hour == 20) & (df_uber.index.minute == 0)]"
   ]
  },
  {
   "cell_type": "markdown",
   "metadata": {},
   "source": [
    "> **(f) Reset the data frame so that ‘Time‘ is a column again**"
   ]
  },
  {
   "cell_type": "code",
   "execution_count": 95,
   "metadata": {},
   "outputs": [],
   "source": [
    "df_uber.reset_index('Time', inplace = True)"
   ]
  },
  {
   "cell_type": "code",
   "execution_count": 96,
   "metadata": {},
   "outputs": [
    {
     "data": {
      "text/html": [
       "<div>\n",
       "<style scoped>\n",
       "    .dataframe tbody tr th:only-of-type {\n",
       "        vertical-align: middle;\n",
       "    }\n",
       "\n",
       "    .dataframe tbody tr th {\n",
       "        vertical-align: top;\n",
       "    }\n",
       "\n",
       "    .dataframe thead th {\n",
       "        text-align: right;\n",
       "    }\n",
       "</style>\n",
       "<table border=\"1\" class=\"dataframe\">\n",
       "  <thead>\n",
       "    <tr style=\"text-align: right;\">\n",
       "      <th></th>\n",
       "      <th>Time</th>\n",
       "      <th>Status</th>\n",
       "      <th>PU_Address</th>\n",
       "      <th>Hour</th>\n",
       "    </tr>\n",
       "  </thead>\n",
       "  <tbody>\n",
       "    <tr>\n",
       "      <th>0</th>\n",
       "      <td>2021-07-12 07:15:00</td>\n",
       "      <td>Cancelled</td>\n",
       "      <td>Brooklyn Museum, 200 Eastern Pkwy., BK NY;</td>\n",
       "      <td>7</td>\n",
       "    </tr>\n",
       "    <tr>\n",
       "      <th>1</th>\n",
       "      <td>2021-07-12 07:30:00</td>\n",
       "      <td>Arrived</td>\n",
       "      <td>33 Robert Dr., Short Hills NJ;</td>\n",
       "      <td>7</td>\n",
       "    </tr>\n",
       "    <tr>\n",
       "      <th>2</th>\n",
       "      <td>2021-07-12 08:00:00</td>\n",
       "      <td>Assigned</td>\n",
       "      <td>60 Glenmore Ave., BK NY;</td>\n",
       "      <td>8</td>\n",
       "    </tr>\n",
       "    <tr>\n",
       "      <th>3</th>\n",
       "      <td>2021-07-12 09:00:00</td>\n",
       "      <td>Assigned</td>\n",
       "      <td>128 East 31 St., BK NY;</td>\n",
       "      <td>9</td>\n",
       "    </tr>\n",
       "    <tr>\n",
       "      <th>4</th>\n",
       "      <td>2021-07-12 09:30:00</td>\n",
       "      <td>Assigned</td>\n",
       "      <td>139-39 35 Ave., Flushing NY;</td>\n",
       "      <td>9</td>\n",
       "    </tr>\n",
       "    <tr>\n",
       "      <th>...</th>\n",
       "      <td>...</td>\n",
       "      <td>...</td>\n",
       "      <td>...</td>\n",
       "      <td>...</td>\n",
       "    </tr>\n",
       "    <tr>\n",
       "      <th>94</th>\n",
       "      <td>2021-07-12 06:00:00</td>\n",
       "      <td>Assigned</td>\n",
       "      <td>266 prospect park west, brooklyn NY;</td>\n",
       "      <td>6</td>\n",
       "    </tr>\n",
       "    <tr>\n",
       "      <th>95</th>\n",
       "      <td>2021-07-12 08:30:00</td>\n",
       "      <td>Cancelled</td>\n",
       "      <td>42 St., BK NY;</td>\n",
       "      <td>8</td>\n",
       "    </tr>\n",
       "    <tr>\n",
       "      <th>96</th>\n",
       "      <td>2021-07-12 12:00:00</td>\n",
       "      <td>Arrived</td>\n",
       "      <td>663 51st Street, BK NY;</td>\n",
       "      <td>12</td>\n",
       "    </tr>\n",
       "    <tr>\n",
       "      <th>97</th>\n",
       "      <td>2021-07-12 16:45:00</td>\n",
       "      <td>Assigned</td>\n",
       "      <td>255 Fieldston Terrace, Bronx NY;</td>\n",
       "      <td>16</td>\n",
       "    </tr>\n",
       "    <tr>\n",
       "      <th>98</th>\n",
       "      <td>2021-07-12 13:30:00</td>\n",
       "      <td>Arrived</td>\n",
       "      <td>Columbia University, 630 W 168 St., NY NY; ST:...</td>\n",
       "      <td>13</td>\n",
       "    </tr>\n",
       "  </tbody>\n",
       "</table>\n",
       "<p>99 rows × 4 columns</p>\n",
       "</div>"
      ],
      "text/plain": [
       "                  Time     Status  \\\n",
       "0  2021-07-12 07:15:00  Cancelled   \n",
       "1  2021-07-12 07:30:00    Arrived   \n",
       "2  2021-07-12 08:00:00   Assigned   \n",
       "3  2021-07-12 09:00:00   Assigned   \n",
       "4  2021-07-12 09:30:00   Assigned   \n",
       "..                 ...        ...   \n",
       "94 2021-07-12 06:00:00   Assigned   \n",
       "95 2021-07-12 08:30:00  Cancelled   \n",
       "96 2021-07-12 12:00:00    Arrived   \n",
       "97 2021-07-12 16:45:00   Assigned   \n",
       "98 2021-07-12 13:30:00    Arrived   \n",
       "\n",
       "                                           PU_Address  Hour  \n",
       "0          Brooklyn Museum, 200 Eastern Pkwy., BK NY;     7  \n",
       "1                      33 Robert Dr., Short Hills NJ;     7  \n",
       "2                            60 Glenmore Ave., BK NY;     8  \n",
       "3                             128 East 31 St., BK NY;     9  \n",
       "4                        139-39 35 Ave., Flushing NY;     9  \n",
       "..                                                ...   ...  \n",
       "94               266 prospect park west, brooklyn NY;     6  \n",
       "95                                     42 St., BK NY;     8  \n",
       "96                            663 51st Street, BK NY;    12  \n",
       "97                   255 Fieldston Terrace, Bronx NY;    16  \n",
       "98  Columbia University, 630 W 168 St., NY NY; ST:...    13  \n",
       "\n",
       "[99 rows x 4 columns]"
      ]
     },
     "execution_count": 96,
     "metadata": {},
     "output_type": "execute_result"
    }
   ],
   "source": [
    "df_uber"
   ]
  },
  {
   "cell_type": "markdown",
   "metadata": {},
   "source": [
    "<div class=\"alert alert-block alert-warning\">  \n",
    "\n",
    "### Question 5: You work for a large school district as a data analyst. Your boss wants to purchase a large amount of cereal for school breakfasts. He needs to choose a manufacturer and product. He wants you to prepare a presentation for the executive team. You are provided with some data in cereal.csv:\n",
    "- (a) Initially explore the dataset by looking at the number of records, column names, column types and few record values. Through this initial look, combined with your boss’s goal above, list five analytics queries or questions that you would have about this dataset in your exploratory process.\n",
    "- (b) To answer the questions you have listed above, what columns from this data you would need? Print some basic statistical summaries and plots for at least 5 columns you would need to check missing values, extreme values and value distributions. List three findings you have at this point.\n",
    "- (c) To answer the questions you have listed above, describe 5 visualizations that can help you explore this data. (Example: line graph between variable x and y.).\n",
    "- (d) Plot at three DIFFERENT graphs you have mentioned above. Summarise some findings from each plot. (For example, line chart of x and y and line chart of a and b doesn’t count as different; line chart and box plot does. )\n",
    "- (e) Besides the information provided in the data, what else information might be helpful to achieve your boss’ goal?"
   ]
  },
  {
   "cell_type": "code",
   "execution_count": null,
   "metadata": {},
   "outputs": [],
   "source": [
    "cereal = read_csv('')"
   ]
  }
 ],
 "metadata": {
  "kernelspec": {
   "display_name": "Python 3",
   "language": "python",
   "name": "python3"
  },
  "language_info": {
   "codemirror_mode": {
    "name": "ipython",
    "version": 3
   },
   "file_extension": ".py",
   "mimetype": "text/x-python",
   "name": "python",
   "nbconvert_exporter": "python",
   "pygments_lexer": "ipython3",
   "version": "3.7.3"
  }
 },
 "nbformat": 4,
 "nbformat_minor": 4
}
